{
 "cells": [
  {
   "cell_type": "markdown",
   "metadata": {},
   "source": [
    "# Setting up"
   ]
  },
  {
   "cell_type": "code",
   "execution_count": 16,
   "metadata": {
    "ExecuteTime": {
     "end_time": "2020-12-04T06:06:49.495837Z",
     "start_time": "2020-12-04T06:06:47.661848Z"
    }
   },
   "outputs": [],
   "source": [
    "import pandas as pd\n",
    "\n",
    "import matplotlib.pyplot as plt\n",
    "\n",
    "from sklearn.cluster import KMeans\n",
    "\n",
    "from footbot.data.utils import set_up_bigquery, run_query"
   ]
  },
  {
   "cell_type": "code",
   "execution_count": 6,
   "metadata": {
    "ExecuteTime": {
     "end_time": "2020-12-04T06:03:31.712868Z",
     "start_time": "2020-12-04T06:03:31.704260Z"
    }
   },
   "outputs": [],
   "source": [
    "pd.set_option('max_colwidth', 60)\n",
    "pd.set_option('max_rows', 100)\n",
    "pd.set_option('max_columns', 100)"
   ]
  },
  {
   "cell_type": "code",
   "execution_count": 7,
   "metadata": {
    "ExecuteTime": {
     "end_time": "2020-12-04T06:03:32.047742Z",
     "start_time": "2020-12-04T06:03:32.022662Z"
    }
   },
   "outputs": [],
   "source": [
    "client = set_up_bigquery('../../secrets/service_account.json')"
   ]
  },
  {
   "cell_type": "markdown",
   "metadata": {},
   "source": [
    "# Getting data"
   ]
  },
  {
   "cell_type": "code",
   "execution_count": 83,
   "metadata": {
    "ExecuteTime": {
     "end_time": "2020-12-04T06:32:31.842985Z",
     "start_time": "2020-12-04T06:32:31.837563Z"
    }
   },
   "outputs": [],
   "source": [
    "sql = '''\n",
    "SELECT\n",
    "  element_all,\n",
    "  safe_web_name,\n",
    "  safe_team_name,\n",
    "  element_type,\n",
    "  AVG(goals_scored) / AVG(minutes) AS goals_scored_per_minute,\n",
    "  AVG(assists) / AVG(minutes) AS assists_per_minute,\n",
    "  AVG(goals_conceded) / AVG(minutes) AS goals_conceded_per_minute,\n",
    "FROM (\n",
    "  SELECT\n",
    "    e.element_all,\n",
    "    FIRST_VALUE(e.element_type) OVER(PARTITION BY e.element_all ORDER BY kickoff_time DESC) AS element_type,\n",
    "    FIRST_VALUE(e.safe_team_name) OVER(PARTITION BY e.element_all ORDER BY kickoff_time DESC) AS safe_team_name,\n",
    "    e.safe_web_name,\n",
    "    eg.*,\n",
    "    DENSE_RANK() OVER(PARTITION BY e.element_all ORDER BY kickoff_time DESC) AS event_order\n",
    "  FROM\n",
    "    `footbot-001.fpl.element_gameweeks_all` AS eg\n",
    "  INNER JOIN\n",
    "    `footbot-001.fpl.elements_all` AS e\n",
    "  ON\n",
    "    eg.element = e.element\n",
    "    AND eg.season = e.season\n",
    "  INNER JOIN\n",
    "    `footbot-001.fpl.elements_all` AS ce\n",
    "  ON\n",
    "    e.element_all = ce.element_all\n",
    "    AND ce.season = '2021'\n",
    "  WHERE\n",
    "    minutes > 0 )\n",
    "WHERE\n",
    "  event_order <= 38\n",
    "  AND element_type != 1\n",
    "GROUP BY\n",
    "  1,\n",
    "  2,\n",
    "  3,\n",
    "  4\n",
    "HAVING\n",
    "  AVG(minutes) >= 60\n",
    "'''"
   ]
  },
  {
   "cell_type": "code",
   "execution_count": 84,
   "metadata": {
    "ExecuteTime": {
     "end_time": "2020-12-04T06:32:43.268904Z",
     "start_time": "2020-12-04T06:32:32.748490Z"
    }
   },
   "outputs": [
    {
     "data": {
      "text/html": [
       "<div>\n",
       "<style scoped>\n",
       "    .dataframe tbody tr th:only-of-type {\n",
       "        vertical-align: middle;\n",
       "    }\n",
       "\n",
       "    .dataframe tbody tr th {\n",
       "        vertical-align: top;\n",
       "    }\n",
       "\n",
       "    .dataframe thead th {\n",
       "        text-align: right;\n",
       "    }\n",
       "</style>\n",
       "<table border=\"1\" class=\"dataframe\">\n",
       "  <thead>\n",
       "    <tr style=\"text-align: right;\">\n",
       "      <th></th>\n",
       "      <th>element_all</th>\n",
       "      <th>safe_web_name</th>\n",
       "      <th>safe_team_name</th>\n",
       "      <th>element_type</th>\n",
       "      <th>goals_scored_per_minute</th>\n",
       "      <th>assists_per_minute</th>\n",
       "      <th>goals_conceded_per_minute</th>\n",
       "    </tr>\n",
       "  </thead>\n",
       "  <tbody>\n",
       "    <tr>\n",
       "      <th>27</th>\n",
       "      <td>1216</td>\n",
       "      <td>sessegnon</td>\n",
       "      <td>spurs</td>\n",
       "      <td>3</td>\n",
       "      <td>0.000816</td>\n",
       "      <td>0.002448</td>\n",
       "      <td>0.024480</td>\n",
       "    </tr>\n",
       "    <tr>\n",
       "      <th>75</th>\n",
       "      <td>474</td>\n",
       "      <td>guilbert</td>\n",
       "      <td>aston villa</td>\n",
       "      <td>2</td>\n",
       "      <td>0.000000</td>\n",
       "      <td>0.000981</td>\n",
       "      <td>0.017664</td>\n",
       "    </tr>\n",
       "    <tr>\n",
       "      <th>217</th>\n",
       "      <td>972</td>\n",
       "      <td>cash</td>\n",
       "      <td>aston villa</td>\n",
       "      <td>2</td>\n",
       "      <td>0.000000</td>\n",
       "      <td>0.001295</td>\n",
       "      <td>0.016839</td>\n",
       "    </tr>\n",
       "    <tr>\n",
       "      <th>1</th>\n",
       "      <td>902</td>\n",
       "      <td>trezeguet</td>\n",
       "      <td>aston villa</td>\n",
       "      <td>3</td>\n",
       "      <td>0.002606</td>\n",
       "      <td>0.001303</td>\n",
       "      <td>0.015204</td>\n",
       "    </tr>\n",
       "    <tr>\n",
       "      <th>285</th>\n",
       "      <td>1053</td>\n",
       "      <td>redmond</td>\n",
       "      <td>southampton</td>\n",
       "      <td>3</td>\n",
       "      <td>0.002149</td>\n",
       "      <td>0.001535</td>\n",
       "      <td>0.019030</td>\n",
       "    </tr>\n",
       "    <tr>\n",
       "      <th>191</th>\n",
       "      <td>1085</td>\n",
       "      <td>norwood</td>\n",
       "      <td>sheffield utd</td>\n",
       "      <td>3</td>\n",
       "      <td>0.000324</td>\n",
       "      <td>0.000971</td>\n",
       "      <td>0.011654</td>\n",
       "    </tr>\n",
       "    <tr>\n",
       "      <th>93</th>\n",
       "      <td>308</td>\n",
       "      <td>ceballos</td>\n",
       "      <td>arsenal</td>\n",
       "      <td>3</td>\n",
       "      <td>0.000000</td>\n",
       "      <td>0.001302</td>\n",
       "      <td>0.012587</td>\n",
       "    </tr>\n",
       "    <tr>\n",
       "      <th>283</th>\n",
       "      <td>345</td>\n",
       "      <td>sanchez</td>\n",
       "      <td>spurs</td>\n",
       "      <td>2</td>\n",
       "      <td>0.000311</td>\n",
       "      <td>0.000621</td>\n",
       "      <td>0.014601</td>\n",
       "    </tr>\n",
       "    <tr>\n",
       "      <th>171</th>\n",
       "      <td>498</td>\n",
       "      <td>wijnaldum</td>\n",
       "      <td>liverpool</td>\n",
       "      <td>3</td>\n",
       "      <td>0.001325</td>\n",
       "      <td>0.000000</td>\n",
       "      <td>0.009272</td>\n",
       "    </tr>\n",
       "    <tr>\n",
       "      <th>127</th>\n",
       "      <td>695</td>\n",
       "      <td>stones</td>\n",
       "      <td>man city</td>\n",
       "      <td>2</td>\n",
       "      <td>0.000000</td>\n",
       "      <td>0.000000</td>\n",
       "      <td>0.011115</td>\n",
       "    </tr>\n",
       "  </tbody>\n",
       "</table>\n",
       "</div>"
      ],
      "text/plain": [
       "     element_all safe_web_name safe_team_name  element_type  \\\n",
       "27          1216     sessegnon          spurs             3   \n",
       "75           474      guilbert    aston villa             2   \n",
       "217          972          cash    aston villa             2   \n",
       "1            902     trezeguet    aston villa             3   \n",
       "285         1053       redmond    southampton             3   \n",
       "191         1085       norwood  sheffield utd             3   \n",
       "93           308      ceballos        arsenal             3   \n",
       "283          345       sanchez          spurs             2   \n",
       "171          498     wijnaldum      liverpool             3   \n",
       "127          695        stones       man city             2   \n",
       "\n",
       "     goals_scored_per_minute  assists_per_minute  goals_conceded_per_minute  \n",
       "27                  0.000816            0.002448                   0.024480  \n",
       "75                  0.000000            0.000981                   0.017664  \n",
       "217                 0.000000            0.001295                   0.016839  \n",
       "1                   0.002606            0.001303                   0.015204  \n",
       "285                 0.002149            0.001535                   0.019030  \n",
       "191                 0.000324            0.000971                   0.011654  \n",
       "93                  0.000000            0.001302                   0.012587  \n",
       "283                 0.000311            0.000621                   0.014601  \n",
       "171                 0.001325            0.000000                   0.009272  \n",
       "127                 0.000000            0.000000                   0.011115  "
      ]
     },
     "execution_count": 84,
     "metadata": {},
     "output_type": "execute_result"
    }
   ],
   "source": [
    "df = run_query(sql, client)\n",
    "\n",
    "df.sample(10)"
   ]
  },
  {
   "cell_type": "code",
   "execution_count": 85,
   "metadata": {
    "ExecuteTime": {
     "end_time": "2020-12-04T06:32:43.300950Z",
     "start_time": "2020-12-04T06:32:43.275827Z"
    }
   },
   "outputs": [
    {
     "data": {
      "text/plain": [
       "301"
      ]
     },
     "execution_count": 85,
     "metadata": {},
     "output_type": "execute_result"
    }
   ],
   "source": [
    "len(df)"
   ]
  },
  {
   "cell_type": "markdown",
   "metadata": {},
   "source": [
    "# Profiling data"
   ]
  },
  {
   "cell_type": "code",
   "execution_count": 93,
   "metadata": {
    "ExecuteTime": {
     "end_time": "2020-12-04T06:34:30.033237Z",
     "start_time": "2020-12-04T06:34:29.769036Z"
    }
   },
   "outputs": [
    {
     "data": {
      "image/png": "[encoded data removed]",
      "text/plain": [
       "<Figure size 576x576 with 1 Axes>"
      ]
     },
     "metadata": {
      "needs_background": "light"
     },
     "output_type": "display_data"
    }
   ],
   "source": [
    "plt.figure(figsize=(8, 8))\n",
    "plt.scatter(\n",
    "    df['goals_scored_per_minute'],\n",
    "    df['assists_per_minute'],\n",
    "    alpha=0.25\n",
    ")\n",
    "plt.title('Goals scored per minute against assists per minute')\n",
    "plt.xlabel('Goals scored per minute')\n",
    "plt.ylabel('Assists per minute')\n",
    "plt.grid()\n",
    "plt.show()"
   ]
  },
  {
   "cell_type": "code",
   "execution_count": 94,
   "metadata": {
    "ExecuteTime": {
     "end_time": "2020-12-04T06:34:30.494787Z",
     "start_time": "2020-12-04T06:34:30.201033Z"
    }
   },
   "outputs": [
    {
     "data": {
      "image/png": "[encoded data removed]",
      "text/plain": [
       "<Figure size 576x576 with 1 Axes>"
      ]
     },
     "metadata": {
      "needs_background": "light"
     },
     "output_type": "display_data"
    }
   ],
   "source": [
    "plt.figure(figsize=(8, 8))\n",
    "plt.scatter(\n",
    "    df['goals_scored_per_minute'],\n",
    "    df['goals_conceded_per_minute'],\n",
    "    alpha=0.25\n",
    ")\n",
    "plt.title('Goals scored per minute against assists per minute')\n",
    "plt.xlabel('Goals scored per minute')\n",
    "plt.ylabel('Goals conceded per minute')\n",
    "plt.grid()\n",
    "plt.show()"
   ]
  },
  {
   "cell_type": "code",
   "execution_count": 112,
   "metadata": {
    "ExecuteTime": {
     "end_time": "2020-12-04T06:37:56.351064Z",
     "start_time": "2020-12-04T06:37:56.115916Z"
    }
   },
   "outputs": [
    {
     "data": {
      "image/png": "[encoded data removed]",
      "text/plain": [
       "<Figure size 576x576 with 1 Axes>"
      ]
     },
     "metadata": {
      "needs_background": "light"
     },
     "output_type": "display_data"
    }
   ],
   "source": [
    "plt.figure(figsize=(8, 8))\n",
    "plt.scatter(\n",
    "    df['assists_per_minute'],\n",
    "    df['goals_conceded_per_minute'],\n",
    "    alpha=0.25,\n",
    ")\n",
    "plt.title('Assists per minute against assists per minute')\n",
    "plt.xlabel('Assists per minute')\n",
    "plt.ylabel('Goals conceded per minute')\n",
    "plt.grid()\n",
    "plt.show()"
   ]
  },
  {
   "cell_type": "markdown",
   "metadata": {},
   "source": [
    "# Modelling"
   ]
  },
  {
   "cell_type": "code",
   "execution_count": 113,
   "metadata": {
    "ExecuteTime": {
     "end_time": "2020-12-04T06:39:04.815166Z",
     "start_time": "2020-12-04T06:39:04.616687Z"
    }
   },
   "outputs": [],
   "source": [
    "kmeans = KMeans(\n",
    "    n_clusters=3,\n",
    "    n_init=50,\n",
    "    max_iter=1000,\n",
    "    random_state=0\n",
    ").fit(\n",
    "    df[['goals_scored_per_minute', 'assists_per_minute',]]\n",
    ")"
   ]
  },
  {
   "cell_type": "code",
   "execution_count": 114,
   "metadata": {
    "ExecuteTime": {
     "end_time": "2020-12-04T06:39:05.924114Z",
     "start_time": "2020-12-04T06:39:05.919257Z"
    }
   },
   "outputs": [],
   "source": [
    "df['cluster'] = kmeans.labels_"
   ]
  },
  {
   "cell_type": "code",
   "execution_count": 115,
   "metadata": {
    "ExecuteTime": {
     "end_time": "2020-12-04T06:39:06.751450Z",
     "start_time": "2020-12-04T06:39:06.743928Z"
    }
   },
   "outputs": [
    {
     "data": {
      "text/plain": [
       "array([[0.00185539, 0.00255214],\n",
       "       [0.00047393, 0.00052412],\n",
       "       [0.0061118 , 0.00295979]])"
      ]
     },
     "execution_count": 115,
     "metadata": {},
     "output_type": "execute_result"
    }
   ],
   "source": [
    "kmeans.cluster_centers_"
   ]
  },
  {
   "cell_type": "code",
   "execution_count": 120,
   "metadata": {
    "ExecuteTime": {
     "end_time": "2020-12-04T06:40:37.039248Z",
     "start_time": "2020-12-04T06:40:36.990684Z"
    }
   },
   "outputs": [
    {
     "data": {
      "text/html": [
       "<div>\n",
       "<style scoped>\n",
       "    .dataframe tbody tr th:only-of-type {\n",
       "        vertical-align: middle;\n",
       "    }\n",
       "\n",
       "    .dataframe tbody tr th {\n",
       "        vertical-align: top;\n",
       "    }\n",
       "\n",
       "    .dataframe thead th {\n",
       "        text-align: right;\n",
       "    }\n",
       "</style>\n",
       "<table border=\"1\" class=\"dataframe\">\n",
       "  <thead>\n",
       "    <tr style=\"text-align: right;\">\n",
       "      <th></th>\n",
       "      <th>element_all</th>\n",
       "      <th>element_type</th>\n",
       "      <th>goals_scored_per_minute</th>\n",
       "      <th>assists_per_minute</th>\n",
       "      <th>goals_conceded_per_minute</th>\n",
       "      <th>cluster</th>\n",
       "    </tr>\n",
       "  </thead>\n",
       "  <tbody>\n",
       "    <tr>\n",
       "      <th>count</th>\n",
       "      <td>208.000000</td>\n",
       "      <td>208.000000</td>\n",
       "      <td>208.000000</td>\n",
       "      <td>208.000000</td>\n",
       "      <td>208.000000</td>\n",
       "      <td>208.0</td>\n",
       "    </tr>\n",
       "    <tr>\n",
       "      <th>mean</th>\n",
       "      <td>728.903846</td>\n",
       "      <td>2.322115</td>\n",
       "      <td>0.000474</td>\n",
       "      <td>0.000524</td>\n",
       "      <td>0.015988</td>\n",
       "      <td>1.0</td>\n",
       "    </tr>\n",
       "    <tr>\n",
       "      <th>std</th>\n",
       "      <td>403.790124</td>\n",
       "      <td>0.498395</td>\n",
       "      <td>0.000537</td>\n",
       "      <td>0.000505</td>\n",
       "      <td>0.005868</td>\n",
       "      <td>0.0</td>\n",
       "    </tr>\n",
       "    <tr>\n",
       "      <th>min</th>\n",
       "      <td>2.000000</td>\n",
       "      <td>2.000000</td>\n",
       "      <td>0.000000</td>\n",
       "      <td>0.000000</td>\n",
       "      <td>0.000000</td>\n",
       "      <td>1.0</td>\n",
       "    </tr>\n",
       "    <tr>\n",
       "      <th>25%</th>\n",
       "      <td>419.250000</td>\n",
       "      <td>2.000000</td>\n",
       "      <td>0.000000</td>\n",
       "      <td>0.000000</td>\n",
       "      <td>0.013000</td>\n",
       "      <td>1.0</td>\n",
       "    </tr>\n",
       "    <tr>\n",
       "      <th>50%</th>\n",
       "      <td>687.500000</td>\n",
       "      <td>2.000000</td>\n",
       "      <td>0.000329</td>\n",
       "      <td>0.000357</td>\n",
       "      <td>0.015562</td>\n",
       "      <td>1.0</td>\n",
       "    </tr>\n",
       "    <tr>\n",
       "      <th>75%</th>\n",
       "      <td>1068.250000</td>\n",
       "      <td>3.000000</td>\n",
       "      <td>0.000747</td>\n",
       "      <td>0.000884</td>\n",
       "      <td>0.017967</td>\n",
       "      <td>1.0</td>\n",
       "    </tr>\n",
       "    <tr>\n",
       "      <th>max</th>\n",
       "      <td>1424.000000</td>\n",
       "      <td>4.000000</td>\n",
       "      <td>0.002887</td>\n",
       "      <td>0.002237</td>\n",
       "      <td>0.055556</td>\n",
       "      <td>1.0</td>\n",
       "    </tr>\n",
       "  </tbody>\n",
       "</table>\n",
       "</div>"
      ],
      "text/plain": [
       "       element_all  element_type  goals_scored_per_minute  assists_per_minute  \\\n",
       "count   208.000000    208.000000               208.000000          208.000000   \n",
       "mean    728.903846      2.322115                 0.000474            0.000524   \n",
       "std     403.790124      0.498395                 0.000537            0.000505   \n",
       "min       2.000000      2.000000                 0.000000            0.000000   \n",
       "25%     419.250000      2.000000                 0.000000            0.000000   \n",
       "50%     687.500000      2.000000                 0.000329            0.000357   \n",
       "75%    1068.250000      3.000000                 0.000747            0.000884   \n",
       "max    1424.000000      4.000000                 0.002887            0.002237   \n",
       "\n",
       "       goals_conceded_per_minute  cluster  \n",
       "count                 208.000000    208.0  \n",
       "mean                    0.015988      1.0  \n",
       "std                     0.005868      0.0  \n",
       "min                     0.000000      1.0  \n",
       "25%                     0.013000      1.0  \n",
       "50%                     0.015562      1.0  \n",
       "75%                     0.017967      1.0  \n",
       "max                     0.055556      1.0  "
      ]
     },
     "execution_count": 120,
     "metadata": {},
     "output_type": "execute_result"
    }
   ],
   "source": [
    "df[df['cluster'] == 1].describe()"
   ]
  },
  {
   "cell_type": "code",
   "execution_count": 123,
   "metadata": {
    "ExecuteTime": {
     "end_time": "2020-12-04T06:41:39.699396Z",
     "start_time": "2020-12-04T06:41:39.672450Z"
    }
   },
   "outputs": [
    {
     "data": {
      "text/html": [
       "<div>\n",
       "<style scoped>\n",
       "    .dataframe tbody tr th:only-of-type {\n",
       "        vertical-align: middle;\n",
       "    }\n",
       "\n",
       "    .dataframe tbody tr th {\n",
       "        vertical-align: top;\n",
       "    }\n",
       "\n",
       "    .dataframe thead th {\n",
       "        text-align: right;\n",
       "    }\n",
       "</style>\n",
       "<table border=\"1\" class=\"dataframe\">\n",
       "  <thead>\n",
       "    <tr style=\"text-align: right;\">\n",
       "      <th></th>\n",
       "      <th>element_all</th>\n",
       "      <th>safe_web_name</th>\n",
       "      <th>safe_team_name</th>\n",
       "      <th>element_type</th>\n",
       "      <th>goals_scored_per_minute</th>\n",
       "      <th>assists_per_minute</th>\n",
       "      <th>goals_conceded_per_minute</th>\n",
       "      <th>cluster</th>\n",
       "    </tr>\n",
       "  </thead>\n",
       "  <tbody>\n",
       "    <tr>\n",
       "      <th>34</th>\n",
       "      <td>663</td>\n",
       "      <td>dunne</td>\n",
       "      <td>burnley</td>\n",
       "      <td>2</td>\n",
       "      <td>0.005556</td>\n",
       "      <td>0.000000</td>\n",
       "      <td>0.027778</td>\n",
       "      <td>2</td>\n",
       "    </tr>\n",
       "    <tr>\n",
       "      <th>10</th>\n",
       "      <td>1142</td>\n",
       "      <td>aubameyang</td>\n",
       "      <td>arsenal</td>\n",
       "      <td>3</td>\n",
       "      <td>0.005133</td>\n",
       "      <td>0.001510</td>\n",
       "      <td>0.013587</td>\n",
       "      <td>2</td>\n",
       "    </tr>\n",
       "    <tr>\n",
       "      <th>88</th>\n",
       "      <td>116</td>\n",
       "      <td>martial</td>\n",
       "      <td>man utd</td>\n",
       "      <td>3</td>\n",
       "      <td>0.006102</td>\n",
       "      <td>0.003390</td>\n",
       "      <td>0.011525</td>\n",
       "      <td>2</td>\n",
       "    </tr>\n",
       "    <tr>\n",
       "      <th>128</th>\n",
       "      <td>1012</td>\n",
       "      <td>antonio</td>\n",
       "      <td>west ham</td>\n",
       "      <td>3</td>\n",
       "      <td>0.005022</td>\n",
       "      <td>0.002869</td>\n",
       "      <td>0.015782</td>\n",
       "      <td>2</td>\n",
       "    </tr>\n",
       "    <tr>\n",
       "      <th>250</th>\n",
       "      <td>613</td>\n",
       "      <td>rodriguez</td>\n",
       "      <td>everton</td>\n",
       "      <td>3</td>\n",
       "      <td>0.003995</td>\n",
       "      <td>0.003995</td>\n",
       "      <td>0.017310</td>\n",
       "      <td>2</td>\n",
       "    </tr>\n",
       "    <tr>\n",
       "      <th>269</th>\n",
       "      <td>804</td>\n",
       "      <td>de bruyne</td>\n",
       "      <td>man city</td>\n",
       "      <td>3</td>\n",
       "      <td>0.004438</td>\n",
       "      <td>0.008535</td>\n",
       "      <td>0.007853</td>\n",
       "      <td>2</td>\n",
       "    </tr>\n",
       "    <tr>\n",
       "      <th>278</th>\n",
       "      <td>1088</td>\n",
       "      <td>watkins</td>\n",
       "      <td>aston villa</td>\n",
       "      <td>4</td>\n",
       "      <td>0.007407</td>\n",
       "      <td>0.001235</td>\n",
       "      <td>0.016049</td>\n",
       "      <td>2</td>\n",
       "    </tr>\n",
       "    <tr>\n",
       "      <th>124</th>\n",
       "      <td>212</td>\n",
       "      <td>fernandes</td>\n",
       "      <td>man utd</td>\n",
       "      <td>3</td>\n",
       "      <td>0.006740</td>\n",
       "      <td>0.006740</td>\n",
       "      <td>0.005055</td>\n",
       "      <td>2</td>\n",
       "    </tr>\n",
       "    <tr>\n",
       "      <th>50</th>\n",
       "      <td>258</td>\n",
       "      <td>pulisic</td>\n",
       "      <td>chelsea</td>\n",
       "      <td>3</td>\n",
       "      <td>0.004722</td>\n",
       "      <td>0.004197</td>\n",
       "      <td>0.015740</td>\n",
       "      <td>2</td>\n",
       "    </tr>\n",
       "    <tr>\n",
       "      <th>37</th>\n",
       "      <td>221</td>\n",
       "      <td>wilson</td>\n",
       "      <td>bournemouth</td>\n",
       "      <td>4</td>\n",
       "      <td>0.007407</td>\n",
       "      <td>0.003704</td>\n",
       "      <td>0.029630</td>\n",
       "      <td>2</td>\n",
       "    </tr>\n",
       "    <tr>\n",
       "      <th>209</th>\n",
       "      <td>1307</td>\n",
       "      <td>abraham</td>\n",
       "      <td>chelsea</td>\n",
       "      <td>4</td>\n",
       "      <td>0.004538</td>\n",
       "      <td>0.003300</td>\n",
       "      <td>0.013201</td>\n",
       "      <td>2</td>\n",
       "    </tr>\n",
       "    <tr>\n",
       "      <th>206</th>\n",
       "      <td>1025</td>\n",
       "      <td>salah</td>\n",
       "      <td>liverpool</td>\n",
       "      <td>3</td>\n",
       "      <td>0.006830</td>\n",
       "      <td>0.003726</td>\n",
       "      <td>0.008693</td>\n",
       "      <td>2</td>\n",
       "    </tr>\n",
       "    <tr>\n",
       "      <th>115</th>\n",
       "      <td>543</td>\n",
       "      <td>son</td>\n",
       "      <td>spurs</td>\n",
       "      <td>3</td>\n",
       "      <td>0.004107</td>\n",
       "      <td>0.004791</td>\n",
       "      <td>0.013005</td>\n",
       "      <td>2</td>\n",
       "    </tr>\n",
       "    <tr>\n",
       "      <th>234</th>\n",
       "      <td>317</td>\n",
       "      <td>ings</td>\n",
       "      <td>southampton</td>\n",
       "      <td>4</td>\n",
       "      <td>0.007857</td>\n",
       "      <td>0.000714</td>\n",
       "      <td>0.015714</td>\n",
       "      <td>2</td>\n",
       "    </tr>\n",
       "    <tr>\n",
       "      <th>51</th>\n",
       "      <td>531</td>\n",
       "      <td>kane</td>\n",
       "      <td>spurs</td>\n",
       "      <td>4</td>\n",
       "      <td>0.006769</td>\n",
       "      <td>0.000883</td>\n",
       "      <td>0.014420</td>\n",
       "      <td>2</td>\n",
       "    </tr>\n",
       "    <tr>\n",
       "      <th>114</th>\n",
       "      <td>252</td>\n",
       "      <td>wood</td>\n",
       "      <td>burnley</td>\n",
       "      <td>4</td>\n",
       "      <td>0.005378</td>\n",
       "      <td>0.000336</td>\n",
       "      <td>0.015798</td>\n",
       "      <td>2</td>\n",
       "    </tr>\n",
       "    <tr>\n",
       "      <th>194</th>\n",
       "      <td>70</td>\n",
       "      <td>lacazette</td>\n",
       "      <td>arsenal</td>\n",
       "      <td>4</td>\n",
       "      <td>0.005506</td>\n",
       "      <td>0.002965</td>\n",
       "      <td>0.012706</td>\n",
       "      <td>2</td>\n",
       "    </tr>\n",
       "    <tr>\n",
       "      <th>119</th>\n",
       "      <td>922</td>\n",
       "      <td>rashford</td>\n",
       "      <td>man utd</td>\n",
       "      <td>4</td>\n",
       "      <td>0.005660</td>\n",
       "      <td>0.002516</td>\n",
       "      <td>0.012579</td>\n",
       "      <td>2</td>\n",
       "    </tr>\n",
       "    <tr>\n",
       "      <th>210</th>\n",
       "      <td>1149</td>\n",
       "      <td>sterling</td>\n",
       "      <td>man city</td>\n",
       "      <td>3</td>\n",
       "      <td>0.006450</td>\n",
       "      <td>0.002580</td>\n",
       "      <td>0.010319</td>\n",
       "      <td>2</td>\n",
       "    </tr>\n",
       "    <tr>\n",
       "      <th>55</th>\n",
       "      <td>623</td>\n",
       "      <td>vardy</td>\n",
       "      <td>leicester</td>\n",
       "      <td>4</td>\n",
       "      <td>0.008669</td>\n",
       "      <td>0.002786</td>\n",
       "      <td>0.014241</td>\n",
       "      <td>2</td>\n",
       "    </tr>\n",
       "  </tbody>\n",
       "</table>\n",
       "</div>"
      ],
      "text/plain": [
       "     element_all safe_web_name safe_team_name  element_type  \\\n",
       "34           663         dunne        burnley             2   \n",
       "10          1142    aubameyang        arsenal             3   \n",
       "88           116       martial        man utd             3   \n",
       "128         1012       antonio       west ham             3   \n",
       "250          613     rodriguez        everton             3   \n",
       "269          804     de bruyne       man city             3   \n",
       "278         1088       watkins    aston villa             4   \n",
       "124          212     fernandes        man utd             3   \n",
       "50           258       pulisic        chelsea             3   \n",
       "37           221        wilson    bournemouth             4   \n",
       "209         1307       abraham        chelsea             4   \n",
       "206         1025         salah      liverpool             3   \n",
       "115          543           son          spurs             3   \n",
       "234          317          ings    southampton             4   \n",
       "51           531          kane          spurs             4   \n",
       "114          252          wood        burnley             4   \n",
       "194           70     lacazette        arsenal             4   \n",
       "119          922      rashford        man utd             4   \n",
       "210         1149      sterling       man city             3   \n",
       "55           623         vardy      leicester             4   \n",
       "\n",
       "     goals_scored_per_minute  assists_per_minute  goals_conceded_per_minute  \\\n",
       "34                  0.005556            0.000000                   0.027778   \n",
       "10                  0.005133            0.001510                   0.013587   \n",
       "88                  0.006102            0.003390                   0.011525   \n",
       "128                 0.005022            0.002869                   0.015782   \n",
       "250                 0.003995            0.003995                   0.017310   \n",
       "269                 0.004438            0.008535                   0.007853   \n",
       "278                 0.007407            0.001235                   0.016049   \n",
       "124                 0.006740            0.006740                   0.005055   \n",
       "50                  0.004722            0.004197                   0.015740   \n",
       "37                  0.007407            0.003704                   0.029630   \n",
       "209                 0.004538            0.003300                   0.013201   \n",
       "206                 0.006830            0.003726                   0.008693   \n",
       "115                 0.004107            0.004791                   0.013005   \n",
       "234                 0.007857            0.000714                   0.015714   \n",
       "51                  0.006769            0.000883                   0.014420   \n",
       "114                 0.005378            0.000336                   0.015798   \n",
       "194                 0.005506            0.002965                   0.012706   \n",
       "119                 0.005660            0.002516                   0.012579   \n",
       "210                 0.006450            0.002580                   0.010319   \n",
       "55                  0.008669            0.002786                   0.014241   \n",
       "\n",
       "     cluster  \n",
       "34         2  \n",
       "10         2  \n",
       "88         2  \n",
       "128        2  \n",
       "250        2  \n",
       "269        2  \n",
       "278        2  \n",
       "124        2  \n",
       "50         2  \n",
       "37         2  \n",
       "209        2  \n",
       "206        2  \n",
       "115        2  \n",
       "234        2  \n",
       "51         2  \n",
       "114        2  \n",
       "194        2  \n",
       "119        2  \n",
       "210        2  \n",
       "55         2  "
      ]
     },
     "execution_count": 123,
     "metadata": {},
     "output_type": "execute_result"
    }
   ],
   "source": [
    "df[df['cluster'] == 2].sample(20)"
   ]
  },
  {
   "cell_type": "markdown",
   "metadata": {},
   "source": [
    "# Profiling clusters"
   ]
  },
  {
   "cell_type": "code",
   "execution_count": 126,
   "metadata": {
    "ExecuteTime": {
     "end_time": "2020-12-04T06:44:12.272347Z",
     "start_time": "2020-12-04T06:44:12.263658Z"
    }
   },
   "outputs": [],
   "source": [
    "cluster_colour = {\n",
    "    0: 'red',\n",
    "    1: 'blue',\n",
    "    2: 'green'\n",
    "}\n",
    "\n",
    "df['cluster_colour'] = df['cluster'].apply(lambda x: cluster_colour[x])"
   ]
  },
  {
   "cell_type": "code",
   "execution_count": 127,
   "metadata": {
    "ExecuteTime": {
     "end_time": "2020-12-04T06:44:41.152660Z",
     "start_time": "2020-12-04T06:44:40.832032Z"
    }
   },
   "outputs": [
    {
     "data": {
      "image/png": "[encoded data removed]",
      "text/plain": [
       "<Figure size 576x576 with 1 Axes>"
      ]
     },
     "metadata": {
      "needs_background": "light"
     },
     "output_type": "display_data"
    }
   ],
   "source": [
    "plt.figure(figsize=(8, 8))\n",
    "plt.scatter(\n",
    "    df['goals_scored_per_minute'],\n",
    "    df['assists_per_minute'],\n",
    "    alpha=0.25,\n",
    "    color = df['cluster_colour']\n",
    ")\n",
    "plt.title('Goals scored per minute against assists per minute')\n",
    "plt.xlabel('Goals scored per minute')\n",
    "plt.ylabel('Assists per minute')\n",
    "plt.grid()\n",
    "plt.show()"
   ]
  }
 ],
 "metadata": {
  "kernelspec": {
   "display_name": "Python 3",
   "language": "python",
   "name": "python3"
  },
  "language_info": {
   "codemirror_mode": {
    "name": "ipython",
    "version": 3
   },
   "file_extension": ".py",
   "mimetype": "text/x-python",
   "name": "python",
   "nbconvert_exporter": "python",
   "pygments_lexer": "ipython3",
   "version": "3.7.7"
  },
  "toc": {
   "base_numbering": 1,
   "nav_menu": {},
   "number_sections": true,
   "sideBar": true,
   "skip_h1_title": false,
   "title_cell": "Table of Contents",
   "title_sidebar": "Contents",
   "toc_cell": false,
   "toc_position": {},
   "toc_section_display": true,
   "toc_window_display": false
  }
 },
 "nbformat": 4,
 "nbformat_minor": 4
}
