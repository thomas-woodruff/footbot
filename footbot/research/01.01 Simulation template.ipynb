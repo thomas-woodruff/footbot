{
 "cells": [
  {
   "cell_type": "markdown",
   "metadata": {
    "heading_collapsed": true
   },
   "source": [
    "# Testing framework - Benchmark model\n",
    "\n",
    "Woodruff Wanderers - 1920 - 2,061 points  \n",
    "Big Weapon - 1920 - 2,212 points  \n",
    "Kebab DeBiryane - 1920 - 2,330 points"
   ]
  },
  {
   "cell_type": "markdown",
   "metadata": {
    "heading_collapsed": true
   },
   "source": [
    "# Setting up"
   ]
  },
  {
   "cell_type": "code",
   "execution_count": 1,
   "metadata": {
    "ExecuteTime": {
     "end_time": "2021-01-18T09:23:46.597705Z",
     "start_time": "2021-01-18T09:23:44.334808Z"
    },
    "hidden": true
   },
   "outputs": [],
   "source": [
    "import pandas as pd\n",
    "\n",
    "import numpy as np\n",
    "\n",
    "from sklearn.compose import ColumnTransformer\n",
    "from sklearn.impute import SimpleImputer\n",
    "from sklearn.linear_model import Lasso\n",
    "from sklearn.metrics import median_absolute_error, mean_squared_error, r2_score\n",
    "from sklearn.pipeline import Pipeline\n",
    "from sklearn.preprocessing import OneHotEncoder\n",
    "from sklearn.preprocessing import StandardScaler\n",
    "\n",
    "from footbot.data.utils import set_up_bigquery, run_query\n",
    "from footbot.research.utils.simulator import simulate_events, make_new_predictions"
   ]
  },
  {
   "cell_type": "code",
   "execution_count": 2,
   "metadata": {
    "ExecuteTime": {
     "end_time": "2021-01-18T09:23:46.618028Z",
     "start_time": "2021-01-18T09:23:46.600877Z"
    },
    "hidden": true
   },
   "outputs": [
    {
     "name": "stderr",
     "output_type": "stream",
     "text": [
      "INFO:root:test\n"
     ]
    }
   ],
   "source": [
    "import logging\n",
    "logger = logging.getLogger()\n",
    "logger.setLevel(logging.INFO)\n",
    "logging.info(\"test\")"
   ]
  },
  {
   "cell_type": "code",
   "execution_count": 3,
   "metadata": {
    "ExecuteTime": {
     "end_time": "2021-01-18T09:23:46.639304Z",
     "start_time": "2021-01-18T09:23:46.621893Z"
    },
    "hidden": true
   },
   "outputs": [],
   "source": [
    "pd.set_option('max_colwidth', 60)\n",
    "pd.set_option('max_rows', 100)\n",
    "pd.set_option('max_columns', 100)"
   ]
  },
  {
   "cell_type": "code",
   "execution_count": 4,
   "metadata": {
    "ExecuteTime": {
     "end_time": "2021-01-18T09:23:46.668467Z",
     "start_time": "2021-01-18T09:23:46.649785Z"
    },
    "hidden": true
   },
   "outputs": [
    {
     "name": "stderr",
     "output_type": "stream",
     "text": [
      "INFO:footbot.data.utils:setting up BigQuery client\n"
     ]
    }
   ],
   "source": [
    "client = set_up_bigquery('../../secrets/service_account.json')"
   ]
  },
  {
   "cell_type": "markdown",
   "metadata": {
    "heading_collapsed": true
   },
   "source": [
    "# Getting data"
   ]
  },
  {
   "cell_type": "markdown",
   "metadata": {
    "heading_collapsed": true,
    "hidden": true
   },
   "source": [
    "## Training data SQL"
   ]
  },
  {
   "cell_type": "code",
   "execution_count": 5,
   "metadata": {
    "ExecuteTime": {
     "end_time": "2021-01-18T09:23:46.683839Z",
     "start_time": "2021-01-18T09:23:46.674417Z"
    },
    "hidden": true
   },
   "outputs": [],
   "source": [
    "train_sql = \\\n",
    "'''\n",
    "  -- training data\n",
    "WITH\n",
    "  teams AS (\n",
    "    -- lookup for team names\n",
    "  SELECT\n",
    "    DISTINCT team,\n",
    "    safe_team_name,\n",
    "    season\n",
    "  FROM\n",
    "    `footbot-001.fpl.elements_all` ),\n",
    "  --------------------------------------------------------------------------------------------------------------------------------------------------------------\n",
    "  element_gameweeks AS (\n",
    "    -- historic player-fixture data as of event of interest\n",
    "  SELECT\n",
    "    eg.* EXCEPT(opponent_team),\n",
    "    ot.safe_team_name AS opponent_team,\n",
    "    e.element_all,\n",
    "    e.safe_web_name,\n",
    "    e.element_type,\n",
    "    e.safe_team_name AS team,\n",
    "  IF\n",
    "    (EXTRACT(DAYOFWEEK\n",
    "      FROM\n",
    "        kickoff_time) = 1,\n",
    "      1,\n",
    "      0) AS was_sunday,\n",
    "  IF\n",
    "    (EXTRACT(DAYOFWEEK\n",
    "      FROM\n",
    "        kickoff_time) NOT IN (1,\n",
    "        7),\n",
    "      1,\n",
    "      0) AS was_weekday,\n",
    "  IF\n",
    "    ((kickoff_time BETWEEN '2019-10-27'\n",
    "        AND '2020-03-29'\n",
    "        AND EXTRACT(HOUR\n",
    "        FROM\n",
    "          kickoff_time) > 15)\n",
    "      OR (kickoff_time NOT BETWEEN '2019-10-27'\n",
    "        AND '2020-03-29'\n",
    "        AND EXTRACT(HOUR\n",
    "        FROM\n",
    "          kickoff_time) > 14),\n",
    "      1,\n",
    "      0) AS was_late,\n",
    "  IF\n",
    "    ((kickoff_time BETWEEN '2019-10-27'\n",
    "        AND '2020-03-29'\n",
    "        AND EXTRACT(HOUR\n",
    "        FROM\n",
    "          kickoff_time) < 15)\n",
    "      OR (kickoff_time NOT BETWEEN '2019-10-27'\n",
    "        AND '2020-03-29'\n",
    "        AND EXTRACT(HOUR\n",
    "        FROM\n",
    "          kickoff_time) < 14),\n",
    "      1,\n",
    "      0) AS was_early,\n",
    "    DENSE_RANK() OVER(PARTITION BY e.element_all ORDER BY eg.season, eg.event, eg.kickoff_time) AS element_event_rank\n",
    "  FROM\n",
    "    `footbot-001.fpl.element_gameweeks_all` AS eg\n",
    "  INNER JOIN\n",
    "    `footbot-001.fpl.elements_all` AS e\n",
    "  ON\n",
    "    eg.element = e.element\n",
    "    AND eg.season = e.season\n",
    "  INNER JOIN\n",
    "    teams AS ot\n",
    "  ON\n",
    "    eg.opponent_team = ot.team\n",
    "    AND eg.season = ot.season\n",
    "  WHERE\n",
    "    (eg.season = '{season}'\n",
    "      AND eg.event < {event})\n",
    "    OR (eg.season < '{season}') -- before event of interest\n",
    "    ),\n",
    "  --------------------------------------------------------------------------------------------------------------------------------------------------------------\n",
    "  elements AS (\n",
    "    -- element features as of event of interest\n",
    "  SELECT\n",
    "    DISTINCT element_all,\n",
    "    element_event_rank,\n",
    "    element_type,\n",
    "    team,\n",
    "    value,\n",
    "    AVG(total_points) OVER(PARTITION BY element_all ORDER BY element_event_rank RANGE BETWEEN 20 PRECEDING AND 1 PRECEDING) AS rolling_avg_total_points_element_p20,\n",
    "    AVG(assists) OVER(PARTITION BY element_all ORDER BY element_event_rank RANGE BETWEEN 20 PRECEDING AND 1 PRECEDING) AS rolling_avg_assists_element_p20,\n",
    "    AVG(clean_sheets) OVER(PARTITION BY element_all ORDER BY element_event_rank RANGE BETWEEN 20 PRECEDING AND 1 PRECEDING) AS rolling_avg_clean_sheets_element_p20,\n",
    "    AVG(goals_conceded) OVER(PARTITION BY element_all ORDER BY element_event_rank RANGE BETWEEN 20 PRECEDING AND 1 PRECEDING) AS rolling_avg_goals_conceded_element_p20,\n",
    "    AVG(saves) OVER(PARTITION BY element_all ORDER BY element_event_rank RANGE BETWEEN 20 PRECEDING AND 1 PRECEDING) AS rolling_avg_saves_element_p20,\n",
    "    AVG(minutes) OVER(PARTITION BY element_all ORDER BY element_event_rank RANGE BETWEEN 20 PRECEDING AND 1 PRECEDING) AS rolling_avg_minutes_element_p20,\n",
    "  FROM\n",
    "    element_gameweeks )\n",
    "  --------------------------------------------------------------------------------------------------------------------------------------------------------------\n",
    "  --------------------------------------------------------------------------------------------------------------------------------------------------------------\n",
    "  --------------------------------------------------------------------------------------------------------------------------------------------------------------\n",
    "SELECT\n",
    "  eg.element_all,\n",
    "  season,\n",
    "  event,\n",
    "  total_points,\n",
    "  opponent_team,\n",
    "  was_home,\n",
    "  was_sunday,\n",
    "  was_weekday,\n",
    "  was_late,\n",
    "  was_early,\n",
    "  e.element_type,\n",
    "  e.team,\n",
    "  e.value,\n",
    "  rolling_avg_total_points_element_p20,\n",
    "  rolling_avg_assists_element_p20,\n",
    "  rolling_avg_clean_sheets_element_p20,\n",
    "  rolling_avg_goals_conceded_element_p20,\n",
    "  rolling_avg_saves_element_p20,\n",
    "  rolling_avg_minutes_element_p20\n",
    "FROM\n",
    "  element_gameweeks AS eg\n",
    "LEFT JOIN\n",
    "  elements AS e\n",
    "ON\n",
    "  eg.element_all = e.element_all\n",
    "  AND eg.element_event_rank = e.element_event_rank\n",
    "ORDER BY\n",
    "  element_all,\n",
    "  season,\n",
    "  event\n",
    "'''"
   ]
  },
  {
   "cell_type": "markdown",
   "metadata": {
    "heading_collapsed": true,
    "hidden": true
   },
   "source": [
    "## Prediction data SQL"
   ]
  },
  {
   "cell_type": "code",
   "execution_count": 6,
   "metadata": {
    "ExecuteTime": {
     "end_time": "2021-01-18T09:23:46.699066Z",
     "start_time": "2021-01-18T09:23:46.686797Z"
    },
    "hidden": true
   },
   "outputs": [],
   "source": [
    "predict_features_sql = \\\n",
    "'''\n",
    "-- prediction data\n",
    "WITH\n",
    "  teams AS (\n",
    "    -- lookup for team names\n",
    "  SELECT\n",
    "    DISTINCT team,\n",
    "    safe_team_name,\n",
    "    season\n",
    "  FROM\n",
    "    `footbot-001.fpl.elements_all` ),\n",
    "  --------------------------------------------------------------------------------------------------------------------------------------------------------------\n",
    "  fixtures AS (\n",
    "    -- fixture data known ahead of time for fixtures from event of interest onwards\n",
    "  SELECT\n",
    "    f.* EXCEPT(opponent_team),\n",
    "    t.safe_team_name AS opponent_team\n",
    "  FROM (\n",
    "    SELECT\n",
    "      element,\n",
    "      event,\n",
    "      fixture,\n",
    "      opponent_team,\n",
    "      was_home,\n",
    "    IF\n",
    "      (EXTRACT(DAYOFWEEK\n",
    "        FROM\n",
    "          kickoff_time) = 1,\n",
    "        1,\n",
    "        0) AS was_sunday,\n",
    "    IF\n",
    "      (EXTRACT(DAYOFWEEK\n",
    "        FROM\n",
    "          kickoff_time) NOT IN (1,\n",
    "          7),\n",
    "        1,\n",
    "        0) AS was_weekday,\n",
    "    IF\n",
    "      ((kickoff_time BETWEEN '2019-10-27'\n",
    "          AND '2020-03-29'\n",
    "          AND EXTRACT(HOUR\n",
    "          FROM\n",
    "            kickoff_time) > 15)\n",
    "        OR (kickoff_time NOT BETWEEN '2019-10-27'\n",
    "          AND '2020-03-29'\n",
    "          AND EXTRACT(HOUR\n",
    "          FROM\n",
    "            kickoff_time) > 14),\n",
    "        1,\n",
    "        0) AS was_late,\n",
    "    IF\n",
    "      ((kickoff_time BETWEEN '2019-10-27'\n",
    "          AND '2020-03-29'\n",
    "          AND EXTRACT(HOUR\n",
    "          FROM\n",
    "            kickoff_time) < 15)\n",
    "        OR (kickoff_time NOT BETWEEN '2019-10-27'\n",
    "          AND '2020-03-29'\n",
    "          AND EXTRACT(HOUR\n",
    "          FROM\n",
    "            kickoff_time) < 14),\n",
    "        1,\n",
    "        0) AS was_early\n",
    "    FROM (\n",
    "      SELECT\n",
    "        element,\n",
    "        event,\n",
    "        fixture,\n",
    "        kickoff_time,\n",
    "        opponent_team,\n",
    "        was_home\n",
    "      FROM\n",
    "        `footbot-001.fpl.element_gameweeks_{season}`\n",
    "      WHERE\n",
    "        event >= {event} -- fixtures from event of interest onwards\n",
    "        ) ) AS f\n",
    "  INNER JOIN\n",
    "    teams AS t\n",
    "  ON\n",
    "    f.opponent_team = t.team\n",
    "    AND t.season = '{season}' ),\n",
    "  --------------------------------------------------------------------------------------------------------------------------------------------------------------\n",
    "  element_gameweeks AS (\n",
    "    -- historic player-fixture data as of event of interest\n",
    "  SELECT\n",
    "    eg.* EXCEPT(opponent_team),\n",
    "    ot.safe_team_name AS opponent_team,\n",
    "    e.element_all,\n",
    "    e.safe_web_name,\n",
    "    e.element_type,\n",
    "    e.safe_team_name AS team,\n",
    "    DENSE_RANK() OVER(PARTITION BY e.element_all ORDER BY eg.season, eg.event, eg.kickoff_time) AS element_event_rank\n",
    "  FROM\n",
    "    `footbot-001.fpl.element_gameweeks_all` AS eg\n",
    "  INNER JOIN\n",
    "    `footbot-001.fpl.elements_all` AS e\n",
    "  ON\n",
    "    eg.element = e.element\n",
    "    AND eg.season = e.season\n",
    "  INNER JOIN\n",
    "    teams AS ot\n",
    "  ON\n",
    "    eg.opponent_team = ot.team\n",
    "    AND eg.season = ot.season\n",
    "  WHERE\n",
    "    (eg.season = '{season}'\n",
    "      AND eg.event <= {event})\n",
    "    OR (eg.season < '{season}') -- before event of interest\n",
    "    ),\n",
    "  --------------------------------------------------------------------------------------------------------------------------------------------------------------\n",
    "  elements AS (\n",
    "    -- element features as of event of interest\n",
    "  SELECT\n",
    "    *\n",
    "  FROM (\n",
    "    SELECT\n",
    "      DISTINCT element_all,\n",
    "      element_type,\n",
    "      team,\n",
    "      value,\n",
    "      AVG(total_points) OVER(PARTITION BY element_all ORDER BY element_event_rank RANGE BETWEEN 20 PRECEDING AND 1 PRECEDING) AS rolling_avg_total_points_element_p20,\n",
    "      AVG(assists) OVER(PARTITION BY element_all ORDER BY element_event_rank RANGE BETWEEN 20 PRECEDING AND 1 PRECEDING) AS rolling_avg_assists_element_p20,\n",
    "      AVG(clean_sheets) OVER(PARTITION BY element_all ORDER BY element_event_rank RANGE BETWEEN 20 PRECEDING AND 1 PRECEDING) AS rolling_avg_clean_sheets_element_p20,\n",
    "      AVG(goals_conceded) OVER(PARTITION BY element_all ORDER BY element_event_rank RANGE BETWEEN 20 PRECEDING AND 1 PRECEDING) AS rolling_avg_goals_conceded_element_p20,\n",
    "      AVG(saves) OVER(PARTITION BY element_all ORDER BY element_event_rank RANGE BETWEEN 20 PRECEDING AND 1 PRECEDING) AS rolling_avg_saves_element_p20,\n",
    "      AVG(minutes) OVER(PARTITION BY element_all ORDER BY element_event_rank RANGE BETWEEN 20 PRECEDING AND 1 PRECEDING) AS rolling_avg_minutes_element_p20,\n",
    "      DENSE_RANK() OVER(PARTITION BY element_all ORDER BY element_event_rank DESC) AS is_current\n",
    "    FROM\n",
    "      element_gameweeks )\n",
    "  WHERE\n",
    "    is_current = 1 )\n",
    "  --------------------------------------------------------------------------------------------------------------------------------------------------------------\n",
    "  --------------------------------------------------------------------------------------------------------------------------------------------------------------\n",
    "  --------------------------------------------------------------------------------------------------------------------------------------------------------------\n",
    "SELECT\n",
    "  a.element_all,\n",
    "  season,\n",
    "  f.event,\n",
    "  fixture,\n",
    "  opponent_team,\n",
    "  was_home,\n",
    "  was_sunday,\n",
    "  was_weekday,\n",
    "  was_late,\n",
    "  was_early,\n",
    "  e.element_type,\n",
    "  e.team,\n",
    "  e.value,\n",
    "  rolling_avg_total_points_element_p20,\n",
    "  rolling_avg_assists_element_p20,\n",
    "  rolling_avg_clean_sheets_element_p20,\n",
    "  rolling_avg_goals_conceded_element_p20,\n",
    "  rolling_avg_saves_element_p20,\n",
    "  rolling_avg_minutes_element_p20\n",
    "FROM\n",
    "  fixtures AS f\n",
    "INNER JOIN\n",
    "  `footbot-001.fpl.elements_all` AS a\n",
    "ON\n",
    "  f.element = a.element\n",
    "  AND a.season = '{season}'\n",
    "INNER JOIN\n",
    "  elements AS e\n",
    "ON\n",
    "  a.element_all = e.element_all\n",
    "ORDER BY\n",
    "  element_all,\n",
    "  season,\n",
    "  event\n",
    "'''"
   ]
  },
  {
   "cell_type": "markdown",
   "metadata": {
    "heading_collapsed": true,
    "hidden": true
   },
   "source": [
    "## Helpers"
   ]
  },
  {
   "cell_type": "code",
   "execution_count": 7,
   "metadata": {
    "ExecuteTime": {
     "end_time": "2021-01-18T09:23:46.717590Z",
     "start_time": "2021-01-18T09:23:46.707511Z"
    },
    "hidden": true
   },
   "outputs": [],
   "source": [
    "def get_data(sql, season, event, client):\n",
    "    formatted_sql = sql.format(season=season, event=event)\n",
    "    return run_query(formatted_sql, client)"
   ]
  },
  {
   "cell_type": "markdown",
   "metadata": {
    "heading_collapsed": true
   },
   "source": [
    "# Modelling points"
   ]
  },
  {
   "cell_type": "code",
   "execution_count": 8,
   "metadata": {
    "ExecuteTime": {
     "end_time": "2021-01-18T09:23:46.738750Z",
     "start_time": "2021-01-18T09:23:46.724719Z"
    },
    "hidden": true
   },
   "outputs": [],
   "source": [
    "def get_predictions_df(\n",
    "    season,\n",
    "    event,\n",
    "    client\n",
    "):\n",
    "    \n",
    "    train_df = get_data(train_sql, season, event, client)\n",
    "    predict_features_df = get_data(predict_features_sql, season, event, client)\n",
    "    \n",
    "    \n",
    "    meta_data = [\n",
    "        'element_all',\n",
    "        'season',\n",
    "        'event',\n",
    "        'fixture',\n",
    "    ]\n",
    "    \n",
    "    train_df = train_df.drop(meta_data, axis=1, errors='ignore')\n",
    "    \n",
    "    categorical_features = [\n",
    "        'opponent_team',\n",
    "        'was_home',\n",
    "        'was_sunday',\n",
    "        'was_weekday',\n",
    "        'was_late',\n",
    "        'was_early',\n",
    "        'element_type',\n",
    "        'team',\n",
    "    ]\n",
    "\n",
    "    numerical_features = [\n",
    "        i for i in train_df.columns if i not in categorical_features + ['total_points']\n",
    "    ]\n",
    "\n",
    "    numerical_transformer = Pipeline(\n",
    "        [\n",
    "            ('impute missing values', SimpleImputer()),\n",
    "            ('scale numerical features', StandardScaler()),\n",
    "        ]\n",
    "    )\n",
    "\n",
    "    preprocess = ColumnTransformer(\n",
    "        [\n",
    "            (\n",
    "                'preprocess numerical features',\n",
    "                numerical_transformer,\n",
    "                numerical_features,\n",
    "            ),\n",
    "            (\n",
    "                'preprocess categorical features',\n",
    "                OneHotEncoder(handle_unknown='ignore'),\n",
    "                categorical_features,\n",
    "            ),\n",
    "        ]\n",
    "    )\n",
    "\n",
    "    model = Pipeline(\n",
    "        [\n",
    "            ('pre-process features', preprocess),\n",
    "            ('predictive model', Lasso(alpha=0.0020)),\n",
    "        ]\n",
    "    )\n",
    "\n",
    "    model.fit(train_df.drop('total_points', axis=1), train_df['total_points'])\n",
    "\n",
    "    predictions_df = predict_features_df.copy()\n",
    "    predictions_df['predicted_total_points'] = model.predict(\n",
    "        predictions_df.drop(meta_data, axis=1)\n",
    "    )\n",
    "    \n",
    "    return predictions_df"
   ]
  },
  {
   "cell_type": "markdown",
   "metadata": {},
   "source": [
    "# Simulating events"
   ]
  },
  {
   "cell_type": "code",
   "execution_count": 9,
   "metadata": {
    "ExecuteTime": {
     "end_time": "2021-01-18T09:23:46.752346Z",
     "start_time": "2021-01-18T09:23:46.746822Z"
    }
   },
   "outputs": [],
   "source": [
    "season = '1920'\n",
    "events = [1, 2, 3]"
   ]
  },
  {
   "cell_type": "markdown",
   "metadata": {},
   "source": [
    "## Retrieving existing predictions"
   ]
  },
  {
   "cell_type": "code",
   "execution_count": 10,
   "metadata": {
    "ExecuteTime": {
     "end_time": "2021-01-18T09:23:58.616977Z",
     "start_time": "2021-01-18T09:23:46.760826Z"
    }
   },
   "outputs": [],
   "source": [
    "all_predictions_df = run_query(f'SELECT * FROM `footbot-001.research.benchmark_model_{season}`', client)"
   ]
  },
  {
   "cell_type": "code",
   "execution_count": 11,
   "metadata": {
    "ExecuteTime": {
     "end_time": "2021-01-18T09:24:20.801695Z",
     "start_time": "2021-01-18T09:23:58.619499Z"
    },
    "scrolled": false
   },
   "outputs": [
    {
     "name": "stderr",
     "output_type": "stream",
     "text": [
      "INFO:footbot.research.utils.simulator:simulating event 1\n",
      "INFO:footbot.research.utils.simulator:simulating event 2\n",
      "INFO:footbot.research.utils.simulator:simulating event 3\n"
     ]
    }
   ],
   "source": [
    "simulation_results_arr = simulate_events(\n",
    "    season=season,\n",
    "    events=events,\n",
    "    all_predictions_df=all_predictions_df,\n",
    "    events_to_look_ahead=0,\n",
    "    events_to_look_ahead_from_scratch=0,\n",
    "    first_team_factor=0.9,\n",
    "    bench_factor=0.1,\n",
    "    captain_factor=0.9,\n",
    "    vice_factor=0.1,\n",
    "    transfer_penalty=0,\n",
    "    transfer_limit=1,\n",
    "    wildcard_events=[],\n",
    "    events_to_look_ahead_wildcard=1,\n",
    "    free_hit_events=[],\n",
    "    triple_captain_events=[],\n",
    "    bench_boost_events=[],\n",
    "    client=client,\n",
    ")"
   ]
  },
  {
   "cell_type": "code",
   "execution_count": 12,
   "metadata": {
    "ExecuteTime": {
     "end_time": "2021-01-18T09:24:20.831655Z",
     "start_time": "2021-01-18T09:24:20.805454Z"
    }
   },
   "outputs": [
    {
     "data": {
      "text/plain": [
       "160.0"
      ]
     },
     "execution_count": 12,
     "metadata": {},
     "output_type": "execute_result"
    }
   ],
   "source": [
    "sum(i['event_points'] for i in simulation_results_arr)"
   ]
  },
  {
   "cell_type": "markdown",
   "metadata": {},
   "source": [
    "## Making new predictions"
   ]
  },
  {
   "cell_type": "code",
   "execution_count": 13,
   "metadata": {
    "ExecuteTime": {
     "end_time": "2021-01-18T09:24:51.809898Z",
     "start_time": "2021-01-18T09:24:20.836828Z"
    }
   },
   "outputs": [
    {
     "name": "stderr",
     "output_type": "stream",
     "text": [
      "INFO:footbot.research.utils.simulator:making predictions as of event 1\n",
      "INFO:footbot.research.utils.simulator:making predictions as of event 2\n",
      "INFO:footbot.research.utils.simulator:making predictions as of event 3\n"
     ]
    }
   ],
   "source": [
    "all_predictions_df = make_new_predictions(\n",
    "    season=season,\n",
    "    events=events,\n",
    "    get_predictions_df=get_predictions_df,\n",
    "    dataset=None,\n",
    "    table=None,\n",
    "    save_new_predictions=False,\n",
    "    client=client\n",
    ")"
   ]
  },
  {
   "cell_type": "code",
   "execution_count": 14,
   "metadata": {
    "ExecuteTime": {
     "end_time": "2021-01-18T09:25:12.983793Z",
     "start_time": "2021-01-18T09:24:51.812095Z"
    },
    "scrolled": false
   },
   "outputs": [
    {
     "name": "stderr",
     "output_type": "stream",
     "text": [
      "INFO:footbot.research.utils.simulator:simulating event 1\n",
      "INFO:footbot.research.utils.simulator:simulating event 2\n",
      "INFO:footbot.research.utils.simulator:simulating event 3\n"
     ]
    }
   ],
   "source": [
    "simulation_results_arr = simulate_events(\n",
    "    season=season,\n",
    "    events=events,\n",
    "    all_predictions_df=all_predictions_df,\n",
    "    events_to_look_ahead=0,\n",
    "    events_to_look_ahead_from_scratch=0,\n",
    "    first_team_factor=0.9,\n",
    "    bench_factor=0.1,\n",
    "    captain_factor=0.9,\n",
    "    vice_factor=0.1,\n",
    "    transfer_penalty=0,\n",
    "    transfer_limit=1,\n",
    "    wildcard_events=[],\n",
    "    events_to_look_ahead_wildcard=1,\n",
    "    free_hit_events=[],\n",
    "    triple_captain_events=[],\n",
    "    bench_boost_events=[],\n",
    "    client=client,\n",
    ")"
   ]
  },
  {
   "cell_type": "code",
   "execution_count": 15,
   "metadata": {
    "ExecuteTime": {
     "end_time": "2021-01-18T09:25:13.001278Z",
     "start_time": "2021-01-18T09:25:12.986176Z"
    }
   },
   "outputs": [
    {
     "data": {
      "text/plain": [
       "160.0"
      ]
     },
     "execution_count": 15,
     "metadata": {},
     "output_type": "execute_result"
    }
   ],
   "source": [
    "sum(i['event_points'] for i in simulation_results_arr)"
   ]
  }
 ],
 "metadata": {
  "kernelspec": {
   "display_name": "Python 3",
   "language": "python",
   "name": "python3"
  },
  "language_info": {
   "codemirror_mode": {
    "name": "ipython",
    "version": 3
   },
   "file_extension": ".py",
   "mimetype": "text/x-python",
   "name": "python",
   "nbconvert_exporter": "python",
   "pygments_lexer": "ipython3",
   "version": "3.7.7"
  },
  "toc": {
   "base_numbering": 1,
   "nav_menu": {},
   "number_sections": true,
   "sideBar": true,
   "skip_h1_title": false,
   "title_cell": "Table of Contents",
   "title_sidebar": "Contents",
   "toc_cell": false,
   "toc_position": {},
   "toc_section_display": true,
   "toc_window_display": false
  }
 },
 "nbformat": 4,
 "nbformat_minor": 4
}
