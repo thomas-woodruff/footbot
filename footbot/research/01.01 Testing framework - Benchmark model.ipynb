{
 "cells": [
  {
   "cell_type": "markdown",
   "metadata": {},
   "source": [
    "# Testing framework - Benchmark model\n",
    "\n",
    "Woodruff Wanderers - 1920 - 2,061 points  \n",
    "Big Weapon - 1920 - 2,212 points  \n",
    "Kebab DeBiryane - 1920 - 2,330 points"
   ]
  },
  {
   "cell_type": "markdown",
   "metadata": {},
   "source": [
    "# Setting up"
   ]
  },
  {
   "cell_type": "code",
   "execution_count": 1,
   "metadata": {
    "ExecuteTime": {
     "end_time": "2021-01-11T12:00:58.680388Z",
     "start_time": "2021-01-11T12:00:56.094130Z"
    }
   },
   "outputs": [],
   "source": [
    "import pandas as pd\n",
    "\n",
    "import numpy as np\n",
    "\n",
    "from sklearn.compose import ColumnTransformer\n",
    "from sklearn.impute import SimpleImputer\n",
    "from sklearn.linear_model import Lasso\n",
    "from sklearn.metrics import median_absolute_error, mean_squared_error, r2_score\n",
    "from sklearn.pipeline import Pipeline\n",
    "from sklearn.preprocessing import OneHotEncoder\n",
    "from sklearn.preprocessing import StandardScaler\n",
    "\n",
    "from footbot.data.utils import set_up_bigquery, run_query\n",
    "from footbot.research.utils.simulator import simulate_events"
   ]
  },
  {
   "cell_type": "code",
   "execution_count": 2,
   "metadata": {
    "ExecuteTime": {
     "end_time": "2021-01-11T12:00:58.709692Z",
     "start_time": "2021-01-11T12:00:58.687224Z"
    }
   },
   "outputs": [
    {
     "name": "stderr",
     "output_type": "stream",
     "text": [
      "INFO:root:test\n"
     ]
    }
   ],
   "source": [
    "import logging\n",
    "logger = logging.getLogger()\n",
    "logger.setLevel(logging.INFO)\n",
    "logging.info(\"test\")"
   ]
  },
  {
   "cell_type": "code",
   "execution_count": 3,
   "metadata": {
    "ExecuteTime": {
     "end_time": "2021-01-11T12:00:58.720981Z",
     "start_time": "2021-01-11T12:00:58.714552Z"
    }
   },
   "outputs": [],
   "source": [
    "pd.set_option('max_colwidth', 60)\n",
    "pd.set_option('max_rows', 100)\n",
    "pd.set_option('max_columns', 100)"
   ]
  },
  {
   "cell_type": "code",
   "execution_count": 4,
   "metadata": {
    "ExecuteTime": {
     "end_time": "2021-01-11T12:00:58.795271Z",
     "start_time": "2021-01-11T12:00:58.728251Z"
    }
   },
   "outputs": [
    {
     "name": "stderr",
     "output_type": "stream",
     "text": [
      "INFO:footbot.data.utils:setting up BigQuery client\n"
     ]
    }
   ],
   "source": [
    "client = set_up_bigquery('../../secrets/service_account.json')"
   ]
  },
  {
   "cell_type": "markdown",
   "metadata": {},
   "source": [
    "# Getting data"
   ]
  },
  {
   "cell_type": "markdown",
   "metadata": {},
   "source": [
    "## Training data SQL"
   ]
  },
  {
   "cell_type": "code",
   "execution_count": 5,
   "metadata": {
    "ExecuteTime": {
     "end_time": "2021-01-11T12:00:58.832126Z",
     "start_time": "2021-01-11T12:00:58.822032Z"
    }
   },
   "outputs": [],
   "source": [
    "train_sql = \\\n",
    "'''\n",
    "  -- training data\n",
    "WITH\n",
    "  teams AS (\n",
    "    -- lookup for team names\n",
    "  SELECT\n",
    "    DISTINCT team,\n",
    "    safe_team_name,\n",
    "    season\n",
    "  FROM\n",
    "    `footbot-001.fpl.elements_all` ),\n",
    "  --------------------------------------------------------------------------------------------------------------------------------------------------------------\n",
    "  element_gameweeks AS (\n",
    "    -- historic player-fixture data as of event of interest\n",
    "  SELECT\n",
    "    eg.* EXCEPT(opponent_team),\n",
    "    ot.safe_team_name AS opponent_team,\n",
    "    e.element_all,\n",
    "    e.safe_web_name,\n",
    "    e.element_type,\n",
    "    e.safe_team_name AS team,\n",
    "  IF\n",
    "    (EXTRACT(DAYOFWEEK\n",
    "      FROM\n",
    "        kickoff_time) = 1,\n",
    "      1,\n",
    "      0) AS was_sunday,\n",
    "  IF\n",
    "    (EXTRACT(DAYOFWEEK\n",
    "      FROM\n",
    "        kickoff_time) NOT IN (1,\n",
    "        7),\n",
    "      1,\n",
    "      0) AS was_weekday,\n",
    "  IF\n",
    "    ((kickoff_time BETWEEN '2019-10-27'\n",
    "        AND '2020-03-29'\n",
    "        AND EXTRACT(HOUR\n",
    "        FROM\n",
    "          kickoff_time) > 15)\n",
    "      OR (kickoff_time NOT BETWEEN '2019-10-27'\n",
    "        AND '2020-03-29'\n",
    "        AND EXTRACT(HOUR\n",
    "        FROM\n",
    "          kickoff_time) > 14),\n",
    "      1,\n",
    "      0) AS was_late,\n",
    "  IF\n",
    "    ((kickoff_time BETWEEN '2019-10-27'\n",
    "        AND '2020-03-29'\n",
    "        AND EXTRACT(HOUR\n",
    "        FROM\n",
    "          kickoff_time) < 15)\n",
    "      OR (kickoff_time NOT BETWEEN '2019-10-27'\n",
    "        AND '2020-03-29'\n",
    "        AND EXTRACT(HOUR\n",
    "        FROM\n",
    "          kickoff_time) < 14),\n",
    "      1,\n",
    "      0) AS was_early,\n",
    "    DENSE_RANK() OVER(PARTITION BY e.element_all ORDER BY eg.season, eg.event, eg.kickoff_time) AS element_event_rank\n",
    "  FROM\n",
    "    `footbot-001.fpl.element_gameweeks_all` AS eg\n",
    "  INNER JOIN\n",
    "    `footbot-001.fpl.elements_all` AS e\n",
    "  ON\n",
    "    eg.element = e.element\n",
    "    AND eg.season = e.season\n",
    "  INNER JOIN\n",
    "    teams AS ot\n",
    "  ON\n",
    "    eg.opponent_team = ot.team\n",
    "    AND eg.season = ot.season\n",
    "  WHERE\n",
    "    (eg.season = '{season}'\n",
    "      AND eg.event < {event})\n",
    "    OR (eg.season < '{season}') -- before event of interest\n",
    "    ),\n",
    "  --------------------------------------------------------------------------------------------------------------------------------------------------------------\n",
    "  elements AS (\n",
    "    -- element features as of event of interest\n",
    "  SELECT\n",
    "    DISTINCT element_all,\n",
    "    element_event_rank,\n",
    "    element_type,\n",
    "    team,\n",
    "    value,\n",
    "    AVG(total_points) OVER(PARTITION BY element_all ORDER BY element_event_rank RANGE BETWEEN 20 PRECEDING AND 1 PRECEDING) AS rolling_avg_total_points_element_p20,\n",
    "    AVG(assists) OVER(PARTITION BY element_all ORDER BY element_event_rank RANGE BETWEEN 20 PRECEDING AND 1 PRECEDING) AS rolling_avg_assists_element_p20,\n",
    "    AVG(clean_sheets) OVER(PARTITION BY element_all ORDER BY element_event_rank RANGE BETWEEN 20 PRECEDING AND 1 PRECEDING) AS rolling_avg_clean_sheets_element_p20,\n",
    "    AVG(goals_conceded) OVER(PARTITION BY element_all ORDER BY element_event_rank RANGE BETWEEN 20 PRECEDING AND 1 PRECEDING) AS rolling_avg_goals_conceded_element_p20,\n",
    "    AVG(saves) OVER(PARTITION BY element_all ORDER BY element_event_rank RANGE BETWEEN 20 PRECEDING AND 1 PRECEDING) AS rolling_avg_saves_element_p20,\n",
    "    AVG(minutes) OVER(PARTITION BY element_all ORDER BY element_event_rank RANGE BETWEEN 20 PRECEDING AND 1 PRECEDING) AS rolling_avg_minutes_element_p20,\n",
    "  FROM\n",
    "    element_gameweeks )\n",
    "  --------------------------------------------------------------------------------------------------------------------------------------------------------------\n",
    "  --------------------------------------------------------------------------------------------------------------------------------------------------------------\n",
    "  --------------------------------------------------------------------------------------------------------------------------------------------------------------\n",
    "SELECT\n",
    "  eg.element_all,\n",
    "  season,\n",
    "  event,\n",
    "  total_points,\n",
    "  opponent_team,\n",
    "  was_home,\n",
    "  was_sunday,\n",
    "  was_weekday,\n",
    "  was_late,\n",
    "  was_early,\n",
    "  e.element_type,\n",
    "  e.team,\n",
    "  e.value,\n",
    "  rolling_avg_total_points_element_p20,\n",
    "  rolling_avg_assists_element_p20,\n",
    "  rolling_avg_clean_sheets_element_p20,\n",
    "  rolling_avg_goals_conceded_element_p20,\n",
    "  rolling_avg_saves_element_p20,\n",
    "  rolling_avg_minutes_element_p20\n",
    "FROM\n",
    "  element_gameweeks AS eg\n",
    "LEFT JOIN\n",
    "  elements AS e\n",
    "ON\n",
    "  eg.element_all = e.element_all\n",
    "  AND eg.element_event_rank = e.element_event_rank\n",
    "ORDER BY\n",
    "  element_all,\n",
    "  season,\n",
    "  event\n",
    "'''"
   ]
  },
  {
   "cell_type": "markdown",
   "metadata": {},
   "source": [
    "## Prediction data SQL"
   ]
  },
  {
   "cell_type": "code",
   "execution_count": 6,
   "metadata": {
    "ExecuteTime": {
     "end_time": "2021-01-11T12:00:58.848171Z",
     "start_time": "2021-01-11T12:00:58.837255Z"
    }
   },
   "outputs": [],
   "source": [
    "predict_features_sql = \\\n",
    "'''\n",
    "-- prediction data\n",
    "WITH\n",
    "  teams AS (\n",
    "    -- lookup for team names\n",
    "  SELECT\n",
    "    DISTINCT team,\n",
    "    safe_team_name,\n",
    "    season\n",
    "  FROM\n",
    "    `footbot-001.fpl.elements_all` ),\n",
    "  --------------------------------------------------------------------------------------------------------------------------------------------------------------\n",
    "  fixtures AS (\n",
    "    -- fixture data known ahead of time for fixtures from event of interest onwards\n",
    "  SELECT\n",
    "    f.* EXCEPT(opponent_team),\n",
    "    t.safe_team_name AS opponent_team\n",
    "  FROM (\n",
    "    SELECT\n",
    "      element,\n",
    "      event,\n",
    "      fixture,\n",
    "      opponent_team,\n",
    "      was_home,\n",
    "    IF\n",
    "      (EXTRACT(DAYOFWEEK\n",
    "        FROM\n",
    "          kickoff_time) = 1,\n",
    "        1,\n",
    "        0) AS was_sunday,\n",
    "    IF\n",
    "      (EXTRACT(DAYOFWEEK\n",
    "        FROM\n",
    "          kickoff_time) NOT IN (1,\n",
    "          7),\n",
    "        1,\n",
    "        0) AS was_weekday,\n",
    "    IF\n",
    "      ((kickoff_time BETWEEN '2019-10-27'\n",
    "          AND '2020-03-29'\n",
    "          AND EXTRACT(HOUR\n",
    "          FROM\n",
    "            kickoff_time) > 15)\n",
    "        OR (kickoff_time NOT BETWEEN '2019-10-27'\n",
    "          AND '2020-03-29'\n",
    "          AND EXTRACT(HOUR\n",
    "          FROM\n",
    "            kickoff_time) > 14),\n",
    "        1,\n",
    "        0) AS was_late,\n",
    "    IF\n",
    "      ((kickoff_time BETWEEN '2019-10-27'\n",
    "          AND '2020-03-29'\n",
    "          AND EXTRACT(HOUR\n",
    "          FROM\n",
    "            kickoff_time) < 15)\n",
    "        OR (kickoff_time NOT BETWEEN '2019-10-27'\n",
    "          AND '2020-03-29'\n",
    "          AND EXTRACT(HOUR\n",
    "          FROM\n",
    "            kickoff_time) < 14),\n",
    "        1,\n",
    "        0) AS was_early\n",
    "    FROM (\n",
    "      SELECT\n",
    "        element,\n",
    "        event,\n",
    "        fixture,\n",
    "        kickoff_time,\n",
    "        opponent_team,\n",
    "        was_home\n",
    "      FROM\n",
    "        `footbot-001.fpl.element_gameweeks_{season}`\n",
    "      WHERE\n",
    "        event >= {event} -- fixtures from event of interest onwards\n",
    "        ) ) AS f\n",
    "  INNER JOIN\n",
    "    teams AS t\n",
    "  ON\n",
    "    f.opponent_team = t.team\n",
    "    AND t.season = '{season}' ),\n",
    "  --------------------------------------------------------------------------------------------------------------------------------------------------------------\n",
    "  element_gameweeks AS (\n",
    "    -- historic player-fixture data as of event of interest\n",
    "  SELECT\n",
    "    eg.* EXCEPT(opponent_team),\n",
    "    ot.safe_team_name AS opponent_team,\n",
    "    e.element_all,\n",
    "    e.safe_web_name,\n",
    "    e.element_type,\n",
    "    e.safe_team_name AS team,\n",
    "    DENSE_RANK() OVER(PARTITION BY e.element_all ORDER BY eg.season, eg.event, eg.kickoff_time) AS element_event_rank\n",
    "  FROM\n",
    "    `footbot-001.fpl.element_gameweeks_all` AS eg\n",
    "  INNER JOIN\n",
    "    `footbot-001.fpl.elements_all` AS e\n",
    "  ON\n",
    "    eg.element = e.element\n",
    "    AND eg.season = e.season\n",
    "  INNER JOIN\n",
    "    teams AS ot\n",
    "  ON\n",
    "    eg.opponent_team = ot.team\n",
    "    AND eg.season = ot.season\n",
    "  WHERE\n",
    "    (eg.season = '{season}'\n",
    "      AND eg.event <= {event})\n",
    "    OR (eg.season < '{season}') -- before event of interest\n",
    "    ),\n",
    "  --------------------------------------------------------------------------------------------------------------------------------------------------------------\n",
    "  elements AS (\n",
    "    -- element features as of event of interest\n",
    "  SELECT\n",
    "    *\n",
    "  FROM (\n",
    "    SELECT\n",
    "      DISTINCT element_all,\n",
    "      element_type,\n",
    "      team,\n",
    "      value,\n",
    "      AVG(total_points) OVER(PARTITION BY element_all ORDER BY element_event_rank RANGE BETWEEN 20 PRECEDING AND 1 PRECEDING) AS rolling_avg_total_points_element_p20,\n",
    "      AVG(assists) OVER(PARTITION BY element_all ORDER BY element_event_rank RANGE BETWEEN 20 PRECEDING AND 1 PRECEDING) AS rolling_avg_assists_element_p20,\n",
    "      AVG(clean_sheets) OVER(PARTITION BY element_all ORDER BY element_event_rank RANGE BETWEEN 20 PRECEDING AND 1 PRECEDING) AS rolling_avg_clean_sheets_element_p20,\n",
    "      AVG(goals_conceded) OVER(PARTITION BY element_all ORDER BY element_event_rank RANGE BETWEEN 20 PRECEDING AND 1 PRECEDING) AS rolling_avg_goals_conceded_element_p20,\n",
    "      AVG(saves) OVER(PARTITION BY element_all ORDER BY element_event_rank RANGE BETWEEN 20 PRECEDING AND 1 PRECEDING) AS rolling_avg_saves_element_p20,\n",
    "      AVG(minutes) OVER(PARTITION BY element_all ORDER BY element_event_rank RANGE BETWEEN 20 PRECEDING AND 1 PRECEDING) AS rolling_avg_minutes_element_p20,\n",
    "      DENSE_RANK() OVER(PARTITION BY element_all ORDER BY element_event_rank DESC) AS is_current\n",
    "    FROM\n",
    "      element_gameweeks )\n",
    "  WHERE\n",
    "    is_current = 1 )\n",
    "  --------------------------------------------------------------------------------------------------------------------------------------------------------------\n",
    "  --------------------------------------------------------------------------------------------------------------------------------------------------------------\n",
    "  --------------------------------------------------------------------------------------------------------------------------------------------------------------\n",
    "SELECT\n",
    "  a.element_all,\n",
    "  season,\n",
    "  f.event,\n",
    "  fixture,\n",
    "  opponent_team,\n",
    "  was_home,\n",
    "  was_sunday,\n",
    "  was_weekday,\n",
    "  was_late,\n",
    "  was_early,\n",
    "  e.element_type,\n",
    "  e.team,\n",
    "  e.value,\n",
    "  rolling_avg_total_points_element_p20,\n",
    "  rolling_avg_assists_element_p20,\n",
    "  rolling_avg_clean_sheets_element_p20,\n",
    "  rolling_avg_goals_conceded_element_p20,\n",
    "  rolling_avg_saves_element_p20,\n",
    "  rolling_avg_minutes_element_p20\n",
    "FROM\n",
    "  fixtures AS f\n",
    "INNER JOIN\n",
    "  `footbot-001.fpl.elements_all` AS a\n",
    "ON\n",
    "  f.element = a.element\n",
    "  AND a.season = '{season}'\n",
    "INNER JOIN\n",
    "  elements AS e\n",
    "ON\n",
    "  a.element_all = e.element_all\n",
    "ORDER BY\n",
    "  element_all,\n",
    "  season,\n",
    "  event\n",
    "'''"
   ]
  },
  {
   "cell_type": "markdown",
   "metadata": {},
   "source": [
    "## Helpers"
   ]
  },
  {
   "cell_type": "code",
   "execution_count": 7,
   "metadata": {
    "ExecuteTime": {
     "end_time": "2021-01-11T12:00:58.876956Z",
     "start_time": "2021-01-11T12:00:58.861551Z"
    }
   },
   "outputs": [],
   "source": [
    "def get_data(sql, season, event, client):\n",
    "    formatted_sql = sql.format(season=season, event=event)\n",
    "    return run_query(formatted_sql, client)"
   ]
  },
  {
   "cell_type": "markdown",
   "metadata": {},
   "source": [
    "# Modelling points"
   ]
  },
  {
   "cell_type": "code",
   "execution_count": 8,
   "metadata": {
    "ExecuteTime": {
     "end_time": "2021-01-11T12:00:58.934244Z",
     "start_time": "2021-01-11T12:00:58.903071Z"
    }
   },
   "outputs": [],
   "source": [
    "def get_predictions_df(\n",
    "    season,\n",
    "    event,\n",
    "    client\n",
    "):\n",
    "    \n",
    "    train_df = get_data(train_sql, season, event, client)\n",
    "    predict_features_df = get_data(predict_features_sql, season, event, client)\n",
    "    \n",
    "    \n",
    "    meta_data = [\n",
    "        'element_all',\n",
    "        'season',\n",
    "        'event',\n",
    "        'fixture',\n",
    "    ]\n",
    "    \n",
    "    train_df = train_df.drop(meta_data, axis=1, errors='ignore')\n",
    "    \n",
    "    categorical_features = [\n",
    "        'opponent_team',\n",
    "        'was_home',\n",
    "        'was_sunday',\n",
    "        'was_weekday',\n",
    "        'was_late',\n",
    "        'was_early',\n",
    "        'element_type',\n",
    "        'team',\n",
    "    ]\n",
    "\n",
    "    numerical_features = [\n",
    "        i for i in train_df.columns if i not in categorical_features + ['total_points']\n",
    "    ]\n",
    "\n",
    "    numerical_transformer = Pipeline(\n",
    "        [\n",
    "            ('impute missing values', SimpleImputer()),\n",
    "            ('scale numerical features', StandardScaler()),\n",
    "        ]\n",
    "    )\n",
    "\n",
    "    preprocess = ColumnTransformer(\n",
    "        [\n",
    "            (\n",
    "                'preprocess numerical features',\n",
    "                numerical_transformer,\n",
    "                numerical_features,\n",
    "            ),\n",
    "            (\n",
    "                'preprocess categorical features',\n",
    "                OneHotEncoder(handle_unknown='ignore'),\n",
    "                categorical_features,\n",
    "            ),\n",
    "        ]\n",
    "    )\n",
    "\n",
    "    model = Pipeline(\n",
    "        [\n",
    "            ('pre-process features', preprocess),\n",
    "            ('predictive model', Lasso(alpha=0.0020)),\n",
    "        ]\n",
    "    )\n",
    "\n",
    "    model.fit(train_df.drop('total_points', axis=1), train_df['total_points'])\n",
    "\n",
    "    predictions_df = predict_features_df.copy()\n",
    "    predictions_df['predicted_total_points'] = model.predict(\n",
    "        predictions_df.drop(meta_data, axis=1)\n",
    "    )\n",
    "    \n",
    "#     predictions_df = predictions_df[['element_all', 'event', 'predicted_total_points']]\n",
    "    \n",
    "    return predictions_df"
   ]
  },
  {
   "cell_type": "code",
   "execution_count": 9,
   "metadata": {
    "ExecuteTime": {
     "end_time": "2021-01-11T12:01:11.262584Z",
     "start_time": "2021-01-11T12:00:58.960363Z"
    }
   },
   "outputs": [],
   "source": [
    "predictions_df = get_predictions_df(\n",
    "    '1920',\n",
    "    1,\n",
    "    client\n",
    ")"
   ]
  },
  {
   "cell_type": "code",
   "execution_count": 10,
   "metadata": {
    "ExecuteTime": {
     "end_time": "2021-01-11T12:01:11.326203Z",
     "start_time": "2021-01-11T12:01:11.264924Z"
    }
   },
   "outputs": [
    {
     "data": {
      "text/html": [
       "<div>\n",
       "<style scoped>\n",
       "    .dataframe tbody tr th:only-of-type {\n",
       "        vertical-align: middle;\n",
       "    }\n",
       "\n",
       "    .dataframe tbody tr th {\n",
       "        vertical-align: top;\n",
       "    }\n",
       "\n",
       "    .dataframe thead th {\n",
       "        text-align: right;\n",
       "    }\n",
       "</style>\n",
       "<table border=\"1\" class=\"dataframe\">\n",
       "  <thead>\n",
       "    <tr style=\"text-align: right;\">\n",
       "      <th></th>\n",
       "      <th>element_all</th>\n",
       "      <th>season</th>\n",
       "      <th>event</th>\n",
       "      <th>fixture</th>\n",
       "      <th>opponent_team</th>\n",
       "      <th>was_home</th>\n",
       "      <th>was_sunday</th>\n",
       "      <th>was_weekday</th>\n",
       "      <th>was_late</th>\n",
       "      <th>was_early</th>\n",
       "      <th>element_type</th>\n",
       "      <th>team</th>\n",
       "      <th>value</th>\n",
       "      <th>rolling_avg_total_points_element_p20</th>\n",
       "      <th>rolling_avg_assists_element_p20</th>\n",
       "      <th>rolling_avg_clean_sheets_element_p20</th>\n",
       "      <th>rolling_avg_goals_conceded_element_p20</th>\n",
       "      <th>rolling_avg_saves_element_p20</th>\n",
       "      <th>rolling_avg_minutes_element_p20</th>\n",
       "      <th>predicted_total_points</th>\n",
       "    </tr>\n",
       "  </thead>\n",
       "  <tbody>\n",
       "    <tr>\n",
       "      <th>0</th>\n",
       "      <td>2</td>\n",
       "      <td>1920</td>\n",
       "      <td>1</td>\n",
       "      <td>8</td>\n",
       "      <td>man city</td>\n",
       "      <td>True</td>\n",
       "      <td>0</td>\n",
       "      <td>0</td>\n",
       "      <td>0</td>\n",
       "      <td>1</td>\n",
       "      <td>2</td>\n",
       "      <td>west ham</td>\n",
       "      <td>50</td>\n",
       "      <td>1.25</td>\n",
       "      <td>0.05</td>\n",
       "      <td>0.05</td>\n",
       "      <td>0.95</td>\n",
       "      <td>0.0</td>\n",
       "      <td>55.65</td>\n",
       "      <td>1.454544</td>\n",
       "    </tr>\n",
       "    <tr>\n",
       "      <th>1</th>\n",
       "      <td>2</td>\n",
       "      <td>1920</td>\n",
       "      <td>2</td>\n",
       "      <td>13</td>\n",
       "      <td>brighton</td>\n",
       "      <td>False</td>\n",
       "      <td>0</td>\n",
       "      <td>0</td>\n",
       "      <td>0</td>\n",
       "      <td>0</td>\n",
       "      <td>2</td>\n",
       "      <td>west ham</td>\n",
       "      <td>50</td>\n",
       "      <td>1.25</td>\n",
       "      <td>0.05</td>\n",
       "      <td>0.05</td>\n",
       "      <td>0.95</td>\n",
       "      <td>0.0</td>\n",
       "      <td>55.65</td>\n",
       "      <td>1.773725</td>\n",
       "    </tr>\n",
       "    <tr>\n",
       "      <th>2</th>\n",
       "      <td>2</td>\n",
       "      <td>1920</td>\n",
       "      <td>3</td>\n",
       "      <td>29</td>\n",
       "      <td>watford</td>\n",
       "      <td>False</td>\n",
       "      <td>0</td>\n",
       "      <td>0</td>\n",
       "      <td>0</td>\n",
       "      <td>0</td>\n",
       "      <td>2</td>\n",
       "      <td>west ham</td>\n",
       "      <td>50</td>\n",
       "      <td>1.25</td>\n",
       "      <td>0.05</td>\n",
       "      <td>0.05</td>\n",
       "      <td>0.95</td>\n",
       "      <td>0.0</td>\n",
       "      <td>55.65</td>\n",
       "      <td>1.756702</td>\n",
       "    </tr>\n",
       "    <tr>\n",
       "      <th>3</th>\n",
       "      <td>2</td>\n",
       "      <td>1920</td>\n",
       "      <td>4</td>\n",
       "      <td>40</td>\n",
       "      <td>norwich</td>\n",
       "      <td>True</td>\n",
       "      <td>0</td>\n",
       "      <td>0</td>\n",
       "      <td>0</td>\n",
       "      <td>0</td>\n",
       "      <td>2</td>\n",
       "      <td>west ham</td>\n",
       "      <td>50</td>\n",
       "      <td>1.25</td>\n",
       "      <td>0.05</td>\n",
       "      <td>0.05</td>\n",
       "      <td>0.95</td>\n",
       "      <td>0.0</td>\n",
       "      <td>55.65</td>\n",
       "      <td>1.966061</td>\n",
       "    </tr>\n",
       "    <tr>\n",
       "      <th>4</th>\n",
       "      <td>2</td>\n",
       "      <td>1920</td>\n",
       "      <td>5</td>\n",
       "      <td>41</td>\n",
       "      <td>aston villa</td>\n",
       "      <td>False</td>\n",
       "      <td>0</td>\n",
       "      <td>1</td>\n",
       "      <td>1</td>\n",
       "      <td>0</td>\n",
       "      <td>2</td>\n",
       "      <td>west ham</td>\n",
       "      <td>50</td>\n",
       "      <td>1.25</td>\n",
       "      <td>0.05</td>\n",
       "      <td>0.05</td>\n",
       "      <td>0.95</td>\n",
       "      <td>0.0</td>\n",
       "      <td>55.65</td>\n",
       "      <td>1.753316</td>\n",
       "    </tr>\n",
       "    <tr>\n",
       "      <th>...</th>\n",
       "      <td>...</td>\n",
       "      <td>...</td>\n",
       "      <td>...</td>\n",
       "      <td>...</td>\n",
       "      <td>...</td>\n",
       "      <td>...</td>\n",
       "      <td>...</td>\n",
       "      <td>...</td>\n",
       "      <td>...</td>\n",
       "      <td>...</td>\n",
       "      <td>...</td>\n",
       "      <td>...</td>\n",
       "      <td>...</td>\n",
       "      <td>...</td>\n",
       "      <td>...</td>\n",
       "      <td>...</td>\n",
       "      <td>...</td>\n",
       "      <td>...</td>\n",
       "      <td>...</td>\n",
       "      <td>...</td>\n",
       "    </tr>\n",
       "    <tr>\n",
       "      <th>20665</th>\n",
       "      <td>1439</td>\n",
       "      <td>1920</td>\n",
       "      <td>43</td>\n",
       "      <td>332</td>\n",
       "      <td>man utd</td>\n",
       "      <td>True</td>\n",
       "      <td>0</td>\n",
       "      <td>1</td>\n",
       "      <td>1</td>\n",
       "      <td>0</td>\n",
       "      <td>1</td>\n",
       "      <td>aston villa</td>\n",
       "      <td>45</td>\n",
       "      <td>NaN</td>\n",
       "      <td>NaN</td>\n",
       "      <td>NaN</td>\n",
       "      <td>NaN</td>\n",
       "      <td>NaN</td>\n",
       "      <td>NaN</td>\n",
       "      <td>1.168136</td>\n",
       "    </tr>\n",
       "    <tr>\n",
       "      <th>20666</th>\n",
       "      <td>1439</td>\n",
       "      <td>1920</td>\n",
       "      <td>44</td>\n",
       "      <td>341</td>\n",
       "      <td>crystal palace</td>\n",
       "      <td>True</td>\n",
       "      <td>1</td>\n",
       "      <td>0</td>\n",
       "      <td>0</td>\n",
       "      <td>1</td>\n",
       "      <td>1</td>\n",
       "      <td>aston villa</td>\n",
       "      <td>45</td>\n",
       "      <td>NaN</td>\n",
       "      <td>NaN</td>\n",
       "      <td>NaN</td>\n",
       "      <td>NaN</td>\n",
       "      <td>NaN</td>\n",
       "      <td>NaN</td>\n",
       "      <td>1.384517</td>\n",
       "    </tr>\n",
       "    <tr>\n",
       "      <th>20667</th>\n",
       "      <td>1439</td>\n",
       "      <td>1920</td>\n",
       "      <td>45</td>\n",
       "      <td>355</td>\n",
       "      <td>everton</td>\n",
       "      <td>False</td>\n",
       "      <td>0</td>\n",
       "      <td>1</td>\n",
       "      <td>1</td>\n",
       "      <td>0</td>\n",
       "      <td>1</td>\n",
       "      <td>aston villa</td>\n",
       "      <td>45</td>\n",
       "      <td>NaN</td>\n",
       "      <td>NaN</td>\n",
       "      <td>NaN</td>\n",
       "      <td>NaN</td>\n",
       "      <td>NaN</td>\n",
       "      <td>NaN</td>\n",
       "      <td>1.102822</td>\n",
       "    </tr>\n",
       "    <tr>\n",
       "      <th>20668</th>\n",
       "      <td>1439</td>\n",
       "      <td>1920</td>\n",
       "      <td>46</td>\n",
       "      <td>361</td>\n",
       "      <td>arsenal</td>\n",
       "      <td>True</td>\n",
       "      <td>0</td>\n",
       "      <td>1</td>\n",
       "      <td>1</td>\n",
       "      <td>0</td>\n",
       "      <td>1</td>\n",
       "      <td>aston villa</td>\n",
       "      <td>45</td>\n",
       "      <td>NaN</td>\n",
       "      <td>NaN</td>\n",
       "      <td>NaN</td>\n",
       "      <td>NaN</td>\n",
       "      <td>NaN</td>\n",
       "      <td>NaN</td>\n",
       "      <td>1.139456</td>\n",
       "    </tr>\n",
       "    <tr>\n",
       "      <th>20669</th>\n",
       "      <td>1439</td>\n",
       "      <td>1920</td>\n",
       "      <td>47</td>\n",
       "      <td>380</td>\n",
       "      <td>west ham</td>\n",
       "      <td>False</td>\n",
       "      <td>1</td>\n",
       "      <td>0</td>\n",
       "      <td>1</td>\n",
       "      <td>0</td>\n",
       "      <td>1</td>\n",
       "      <td>aston villa</td>\n",
       "      <td>45</td>\n",
       "      <td>NaN</td>\n",
       "      <td>NaN</td>\n",
       "      <td>NaN</td>\n",
       "      <td>NaN</td>\n",
       "      <td>NaN</td>\n",
       "      <td>NaN</td>\n",
       "      <td>1.160144</td>\n",
       "    </tr>\n",
       "  </tbody>\n",
       "</table>\n",
       "<p>20670 rows × 20 columns</p>\n",
       "</div>"
      ],
      "text/plain": [
       "       element_all season  event  fixture   opponent_team  was_home  \\\n",
       "0                2   1920      1        8        man city      True   \n",
       "1                2   1920      2       13        brighton     False   \n",
       "2                2   1920      3       29         watford     False   \n",
       "3                2   1920      4       40         norwich      True   \n",
       "4                2   1920      5       41     aston villa     False   \n",
       "...            ...    ...    ...      ...             ...       ...   \n",
       "20665         1439   1920     43      332         man utd      True   \n",
       "20666         1439   1920     44      341  crystal palace      True   \n",
       "20667         1439   1920     45      355         everton     False   \n",
       "20668         1439   1920     46      361         arsenal      True   \n",
       "20669         1439   1920     47      380        west ham     False   \n",
       "\n",
       "       was_sunday  was_weekday  was_late  was_early  element_type  \\\n",
       "0               0            0         0          1             2   \n",
       "1               0            0         0          0             2   \n",
       "2               0            0         0          0             2   \n",
       "3               0            0         0          0             2   \n",
       "4               0            1         1          0             2   \n",
       "...           ...          ...       ...        ...           ...   \n",
       "20665           0            1         1          0             1   \n",
       "20666           1            0         0          1             1   \n",
       "20667           0            1         1          0             1   \n",
       "20668           0            1         1          0             1   \n",
       "20669           1            0         1          0             1   \n",
       "\n",
       "              team  value  rolling_avg_total_points_element_p20  \\\n",
       "0         west ham     50                                  1.25   \n",
       "1         west ham     50                                  1.25   \n",
       "2         west ham     50                                  1.25   \n",
       "3         west ham     50                                  1.25   \n",
       "4         west ham     50                                  1.25   \n",
       "...            ...    ...                                   ...   \n",
       "20665  aston villa     45                                   NaN   \n",
       "20666  aston villa     45                                   NaN   \n",
       "20667  aston villa     45                                   NaN   \n",
       "20668  aston villa     45                                   NaN   \n",
       "20669  aston villa     45                                   NaN   \n",
       "\n",
       "       rolling_avg_assists_element_p20  rolling_avg_clean_sheets_element_p20  \\\n",
       "0                                 0.05                                  0.05   \n",
       "1                                 0.05                                  0.05   \n",
       "2                                 0.05                                  0.05   \n",
       "3                                 0.05                                  0.05   \n",
       "4                                 0.05                                  0.05   \n",
       "...                                ...                                   ...   \n",
       "20665                              NaN                                   NaN   \n",
       "20666                              NaN                                   NaN   \n",
       "20667                              NaN                                   NaN   \n",
       "20668                              NaN                                   NaN   \n",
       "20669                              NaN                                   NaN   \n",
       "\n",
       "       rolling_avg_goals_conceded_element_p20  rolling_avg_saves_element_p20  \\\n",
       "0                                        0.95                            0.0   \n",
       "1                                        0.95                            0.0   \n",
       "2                                        0.95                            0.0   \n",
       "3                                        0.95                            0.0   \n",
       "4                                        0.95                            0.0   \n",
       "...                                       ...                            ...   \n",
       "20665                                     NaN                            NaN   \n",
       "20666                                     NaN                            NaN   \n",
       "20667                                     NaN                            NaN   \n",
       "20668                                     NaN                            NaN   \n",
       "20669                                     NaN                            NaN   \n",
       "\n",
       "       rolling_avg_minutes_element_p20  predicted_total_points  \n",
       "0                                55.65                1.454544  \n",
       "1                                55.65                1.773725  \n",
       "2                                55.65                1.756702  \n",
       "3                                55.65                1.966061  \n",
       "4                                55.65                1.753316  \n",
       "...                                ...                     ...  \n",
       "20665                              NaN                1.168136  \n",
       "20666                              NaN                1.384517  \n",
       "20667                              NaN                1.102822  \n",
       "20668                              NaN                1.139456  \n",
       "20669                              NaN                1.160144  \n",
       "\n",
       "[20670 rows x 20 columns]"
      ]
     },
     "execution_count": 10,
     "metadata": {},
     "output_type": "execute_result"
    }
   ],
   "source": [
    "predictions_df"
   ]
  },
  {
   "cell_type": "markdown",
   "metadata": {},
   "source": [
    "# Evaluate model"
   ]
  },
  {
   "cell_type": "markdown",
   "metadata": {},
   "source": [
    "## Simulate season"
   ]
  },
  {
   "cell_type": "code",
   "execution_count": 11,
   "metadata": {
    "ExecuteTime": {
     "end_time": "2021-01-11T12:01:11.342084Z",
     "start_time": "2021-01-11T12:01:11.330871Z"
    }
   },
   "outputs": [],
   "source": [
    "season = '1920'\n",
    "events = [1, 2, 3]#list(range(1, 30)) + list(range(39, 48))"
   ]
  },
  {
   "cell_type": "code",
   "execution_count": 12,
   "metadata": {
    "ExecuteTime": {
     "end_time": "2021-01-11T12:01:38.673091Z",
     "start_time": "2021-01-11T12:01:11.345482Z"
    },
    "scrolled": false
   },
   "outputs": [
    {
     "name": "stderr",
     "output_type": "stream",
     "text": [
      "INFO:footbot.research.utils.simulator:simulating event 1\n",
      "INFO:footbot.research.utils.simulator:simulating event 2\n",
      "INFO:footbot.research.utils.simulator:simulating event 3\n"
     ]
    }
   ],
   "source": [
    "simulation_results_arr = simulate_events(\n",
    "    season,\n",
    "    events,\n",
    "    get_predictions_df,\n",
    "    events_to_look_ahead=0,\n",
    "    first_team_factor=0.9,\n",
    "    bench_factor=0.1,\n",
    "    captain_factor=0.9,\n",
    "    vice_factor=0.1,\n",
    "    transfer_penalty=0,\n",
    "    transfer_limit=1,\n",
    "    dataset='research',\n",
    "    table=f'benchmark_model_{season}',\n",
    "    save_new_predictions=False,\n",
    "    client=client\n",
    ")"
   ]
  },
  {
   "cell_type": "code",
   "execution_count": 13,
   "metadata": {
    "ExecuteTime": {
     "end_time": "2021-01-11T12:01:38.684286Z",
     "start_time": "2021-01-11T12:01:38.675478Z"
    }
   },
   "outputs": [
    {
     "data": {
      "text/plain": [
       "104.0"
      ]
     },
     "execution_count": 13,
     "metadata": {},
     "output_type": "execute_result"
    }
   ],
   "source": [
    "sum(i['event_points'] for i in simulation_results_arr)"
   ]
  },
  {
   "cell_type": "markdown",
   "metadata": {},
   "source": [
    "# Debugging"
   ]
  },
  {
   "cell_type": "markdown",
   "metadata": {},
   "source": [
    "## Predictions\n",
    "\n",
    "Predictions appear to be the same."
   ]
  },
  {
   "cell_type": "code",
   "execution_count": 14,
   "metadata": {
    "ExecuteTime": {
     "end_time": "2021-01-11T12:01:38.720330Z",
     "start_time": "2021-01-11T12:01:38.688962Z"
    }
   },
   "outputs": [],
   "source": [
    "predictions_df_arr = []\n",
    "for i, event in enumerate([1, 2, 3]):\n",
    "    df = simulation_results_arr[i]['predictions_df']\n",
    "    df['prediction_event'] = event\n",
    "    predictions_df_arr.append(df)\n",
    "\n",
    "predictions_df = pd.concat(predictions_df_arr)"
   ]
  },
  {
   "cell_type": "code",
   "execution_count": 15,
   "metadata": {
    "ExecuteTime": {
     "end_time": "2021-01-11T12:01:43.127466Z",
     "start_time": "2021-01-11T12:01:38.724114Z"
    }
   },
   "outputs": [],
   "source": [
    "bq_df = run_query('SELECT * FROM `footbot-001.research.benchmark_model_1920`', client)"
   ]
  },
  {
   "cell_type": "code",
   "execution_count": 16,
   "metadata": {
    "ExecuteTime": {
     "end_time": "2021-01-11T12:01:43.146943Z",
     "start_time": "2021-01-11T12:01:43.130028Z"
    }
   },
   "outputs": [
    {
     "data": {
      "text/plain": [
       "True"
      ]
     },
     "execution_count": 16,
     "metadata": {},
     "output_type": "execute_result"
    }
   ],
   "source": [
    "len(predictions_df) == len(bq_df)"
   ]
  },
  {
   "cell_type": "code",
   "execution_count": 17,
   "metadata": {
    "ExecuteTime": {
     "end_time": "2021-01-11T12:01:43.263453Z",
     "start_time": "2021-01-11T12:01:43.153964Z"
    }
   },
   "outputs": [],
   "source": [
    "predictions_df = predictions_df.sort_values([\n",
    "    'prediction_event',\n",
    "    'element_all',\n",
    "    'event',\n",
    "    'fixture'\n",
    "])\n",
    "\n",
    "predictions_df = predictions_df.reset_index(drop=True)\n",
    "\n",
    "bq_df = bq_df.sort_values([\n",
    "    'prediction_event',\n",
    "    'element_all',\n",
    "    'event',\n",
    "    'fixture'\n",
    "])\n",
    "\n",
    "bq_df = bq_df.reset_index(drop=True)"
   ]
  },
  {
   "cell_type": "code",
   "execution_count": 18,
   "metadata": {
    "ExecuteTime": {
     "end_time": "2021-01-11T12:01:44.413623Z",
     "start_time": "2021-01-11T12:01:43.266720Z"
    }
   },
   "outputs": [],
   "source": [
    "pd.testing.assert_frame_equal(predictions_df, bq_df)"
   ]
  },
  {
   "cell_type": "markdown",
   "metadata": {},
   "source": [
    "## Difference in dataframes"
   ]
  },
  {
   "cell_type": "code",
   "execution_count": 19,
   "metadata": {
    "ExecuteTime": {
     "end_time": "2021-01-11T12:01:44.459096Z",
     "start_time": "2021-01-11T12:01:44.416325Z"
    }
   },
   "outputs": [
    {
     "data": {
      "text/html": [
       "<div>\n",
       "<style scoped>\n",
       "    .dataframe tbody tr th:only-of-type {\n",
       "        vertical-align: middle;\n",
       "    }\n",
       "\n",
       "    .dataframe tbody tr th {\n",
       "        vertical-align: top;\n",
       "    }\n",
       "\n",
       "    .dataframe thead th {\n",
       "        text-align: right;\n",
       "    }\n",
       "</style>\n",
       "<table border=\"1\" class=\"dataframe\">\n",
       "  <thead>\n",
       "    <tr style=\"text-align: right;\">\n",
       "      <th></th>\n",
       "      <th>element_all</th>\n",
       "      <th>season</th>\n",
       "      <th>event</th>\n",
       "      <th>fixture</th>\n",
       "      <th>opponent_team</th>\n",
       "      <th>was_home</th>\n",
       "      <th>was_sunday</th>\n",
       "      <th>was_weekday</th>\n",
       "      <th>was_late</th>\n",
       "      <th>was_early</th>\n",
       "      <th>element_type</th>\n",
       "      <th>team</th>\n",
       "      <th>value</th>\n",
       "      <th>rolling_avg_total_points_element_p20</th>\n",
       "      <th>rolling_avg_assists_element_p20</th>\n",
       "      <th>rolling_avg_clean_sheets_element_p20</th>\n",
       "      <th>rolling_avg_goals_conceded_element_p20</th>\n",
       "      <th>rolling_avg_saves_element_p20</th>\n",
       "      <th>rolling_avg_minutes_element_p20</th>\n",
       "      <th>predicted_total_points</th>\n",
       "      <th>prediction_event</th>\n",
       "    </tr>\n",
       "  </thead>\n",
       "  <tbody>\n",
       "    <tr>\n",
       "      <th>20670</th>\n",
       "      <td>2</td>\n",
       "      <td>1920</td>\n",
       "      <td>3</td>\n",
       "      <td>29</td>\n",
       "      <td>watford</td>\n",
       "      <td>False</td>\n",
       "      <td>0</td>\n",
       "      <td>0</td>\n",
       "      <td>0</td>\n",
       "      <td>0</td>\n",
       "      <td>2</td>\n",
       "      <td>west ham</td>\n",
       "      <td>50</td>\n",
       "      <td>1.1</td>\n",
       "      <td>0.05</td>\n",
       "      <td>0.05</td>\n",
       "      <td>1.05</td>\n",
       "      <td>0.0</td>\n",
       "      <td>51.15</td>\n",
       "      <td>1.593031</td>\n",
       "      <td>3</td>\n",
       "    </tr>\n",
       "    <tr>\n",
       "      <th>20671</th>\n",
       "      <td>2</td>\n",
       "      <td>1920</td>\n",
       "      <td>7</td>\n",
       "      <td>62</td>\n",
       "      <td>bournemouth</td>\n",
       "      <td>False</td>\n",
       "      <td>0</td>\n",
       "      <td>0</td>\n",
       "      <td>0</td>\n",
       "      <td>0</td>\n",
       "      <td>2</td>\n",
       "      <td>west ham</td>\n",
       "      <td>50</td>\n",
       "      <td>1.1</td>\n",
       "      <td>0.05</td>\n",
       "      <td>0.05</td>\n",
       "      <td>1.05</td>\n",
       "      <td>0.0</td>\n",
       "      <td>51.15</td>\n",
       "      <td>1.567048</td>\n",
       "      <td>3</td>\n",
       "    </tr>\n",
       "    <tr>\n",
       "      <th>20672</th>\n",
       "      <td>2</td>\n",
       "      <td>1920</td>\n",
       "      <td>9</td>\n",
       "      <td>85</td>\n",
       "      <td>everton</td>\n",
       "      <td>False</td>\n",
       "      <td>0</td>\n",
       "      <td>0</td>\n",
       "      <td>0</td>\n",
       "      <td>1</td>\n",
       "      <td>2</td>\n",
       "      <td>west ham</td>\n",
       "      <td>50</td>\n",
       "      <td>1.1</td>\n",
       "      <td>0.05</td>\n",
       "      <td>0.05</td>\n",
       "      <td>1.05</td>\n",
       "      <td>0.0</td>\n",
       "      <td>51.15</td>\n",
       "      <td>1.483979</td>\n",
       "      <td>3</td>\n",
       "    </tr>\n",
       "    <tr>\n",
       "      <th>20673</th>\n",
       "      <td>2</td>\n",
       "      <td>1920</td>\n",
       "      <td>12</td>\n",
       "      <td>111</td>\n",
       "      <td>burnley</td>\n",
       "      <td>False</td>\n",
       "      <td>0</td>\n",
       "      <td>0</td>\n",
       "      <td>0</td>\n",
       "      <td>0</td>\n",
       "      <td>2</td>\n",
       "      <td>west ham</td>\n",
       "      <td>50</td>\n",
       "      <td>1.1</td>\n",
       "      <td>0.05</td>\n",
       "      <td>0.05</td>\n",
       "      <td>1.05</td>\n",
       "      <td>0.0</td>\n",
       "      <td>51.15</td>\n",
       "      <td>1.567048</td>\n",
       "      <td>3</td>\n",
       "    </tr>\n",
       "    <tr>\n",
       "      <th>20674</th>\n",
       "      <td>2</td>\n",
       "      <td>1920</td>\n",
       "      <td>14</td>\n",
       "      <td>132</td>\n",
       "      <td>chelsea</td>\n",
       "      <td>False</td>\n",
       "      <td>0</td>\n",
       "      <td>0</td>\n",
       "      <td>0</td>\n",
       "      <td>0</td>\n",
       "      <td>2</td>\n",
       "      <td>west ham</td>\n",
       "      <td>50</td>\n",
       "      <td>1.1</td>\n",
       "      <td>0.05</td>\n",
       "      <td>0.05</td>\n",
       "      <td>1.05</td>\n",
       "      <td>0.0</td>\n",
       "      <td>51.15</td>\n",
       "      <td>1.280695</td>\n",
       "      <td>3</td>\n",
       "    </tr>\n",
       "    <tr>\n",
       "      <th>...</th>\n",
       "      <td>...</td>\n",
       "      <td>...</td>\n",
       "      <td>...</td>\n",
       "      <td>...</td>\n",
       "      <td>...</td>\n",
       "      <td>...</td>\n",
       "      <td>...</td>\n",
       "      <td>...</td>\n",
       "      <td>...</td>\n",
       "      <td>...</td>\n",
       "      <td>...</td>\n",
       "      <td>...</td>\n",
       "      <td>...</td>\n",
       "      <td>...</td>\n",
       "      <td>...</td>\n",
       "      <td>...</td>\n",
       "      <td>...</td>\n",
       "      <td>...</td>\n",
       "      <td>...</td>\n",
       "      <td>...</td>\n",
       "      <td>...</td>\n",
       "    </tr>\n",
       "    <tr>\n",
       "      <th>40393</th>\n",
       "      <td>1439</td>\n",
       "      <td>1920</td>\n",
       "      <td>24</td>\n",
       "      <td>231</td>\n",
       "      <td>watford</td>\n",
       "      <td>True</td>\n",
       "      <td>0</td>\n",
       "      <td>1</td>\n",
       "      <td>1</td>\n",
       "      <td>0</td>\n",
       "      <td>1</td>\n",
       "      <td>aston villa</td>\n",
       "      <td>45</td>\n",
       "      <td>0.0</td>\n",
       "      <td>0.00</td>\n",
       "      <td>0.00</td>\n",
       "      <td>0.00</td>\n",
       "      <td>0.0</td>\n",
       "      <td>0.00</td>\n",
       "      <td>0.363051</td>\n",
       "      <td>3</td>\n",
       "    </tr>\n",
       "    <tr>\n",
       "      <th>40394</th>\n",
       "      <td>1439</td>\n",
       "      <td>1920</td>\n",
       "      <td>39</td>\n",
       "      <td>291</td>\n",
       "      <td>chelsea</td>\n",
       "      <td>True</td>\n",
       "      <td>1</td>\n",
       "      <td>0</td>\n",
       "      <td>1</td>\n",
       "      <td>0</td>\n",
       "      <td>1</td>\n",
       "      <td>aston villa</td>\n",
       "      <td>45</td>\n",
       "      <td>0.0</td>\n",
       "      <td>0.00</td>\n",
       "      <td>0.00</td>\n",
       "      <td>0.00</td>\n",
       "      <td>0.0</td>\n",
       "      <td>0.00</td>\n",
       "      <td>0.031013</td>\n",
       "      <td>3</td>\n",
       "    </tr>\n",
       "    <tr>\n",
       "      <th>40395</th>\n",
       "      <td>1439</td>\n",
       "      <td>1920</td>\n",
       "      <td>39</td>\n",
       "      <td>271</td>\n",
       "      <td>sheffield utd</td>\n",
       "      <td>True</td>\n",
       "      <td>0</td>\n",
       "      <td>1</td>\n",
       "      <td>1</td>\n",
       "      <td>0</td>\n",
       "      <td>1</td>\n",
       "      <td>aston villa</td>\n",
       "      <td>45</td>\n",
       "      <td>0.0</td>\n",
       "      <td>0.00</td>\n",
       "      <td>0.00</td>\n",
       "      <td>0.00</td>\n",
       "      <td>0.0</td>\n",
       "      <td>0.00</td>\n",
       "      <td>0.337068</td>\n",
       "      <td>3</td>\n",
       "    </tr>\n",
       "    <tr>\n",
       "      <th>40396</th>\n",
       "      <td>1439</td>\n",
       "      <td>1920</td>\n",
       "      <td>43</td>\n",
       "      <td>332</td>\n",
       "      <td>man utd</td>\n",
       "      <td>True</td>\n",
       "      <td>0</td>\n",
       "      <td>1</td>\n",
       "      <td>1</td>\n",
       "      <td>0</td>\n",
       "      <td>1</td>\n",
       "      <td>aston villa</td>\n",
       "      <td>45</td>\n",
       "      <td>0.0</td>\n",
       "      <td>0.00</td>\n",
       "      <td>0.00</td>\n",
       "      <td>0.00</td>\n",
       "      <td>0.0</td>\n",
       "      <td>0.00</td>\n",
       "      <td>0.089418</td>\n",
       "      <td>3</td>\n",
       "    </tr>\n",
       "    <tr>\n",
       "      <th>40397</th>\n",
       "      <td>1439</td>\n",
       "      <td>1920</td>\n",
       "      <td>46</td>\n",
       "      <td>361</td>\n",
       "      <td>arsenal</td>\n",
       "      <td>True</td>\n",
       "      <td>0</td>\n",
       "      <td>1</td>\n",
       "      <td>1</td>\n",
       "      <td>0</td>\n",
       "      <td>1</td>\n",
       "      <td>aston villa</td>\n",
       "      <td>45</td>\n",
       "      <td>0.0</td>\n",
       "      <td>0.00</td>\n",
       "      <td>0.00</td>\n",
       "      <td>0.00</td>\n",
       "      <td>0.0</td>\n",
       "      <td>0.00</td>\n",
       "      <td>0.062967</td>\n",
       "      <td>3</td>\n",
       "    </tr>\n",
       "  </tbody>\n",
       "</table>\n",
       "<p>19728 rows × 21 columns</p>\n",
       "</div>"
      ],
      "text/plain": [
       "       element_all season  event  fixture  opponent_team  was_home  \\\n",
       "20670            2   1920      3       29        watford     False   \n",
       "20671            2   1920      7       62    bournemouth     False   \n",
       "20672            2   1920      9       85        everton     False   \n",
       "20673            2   1920     12      111        burnley     False   \n",
       "20674            2   1920     14      132        chelsea     False   \n",
       "...            ...    ...    ...      ...            ...       ...   \n",
       "40393         1439   1920     24      231        watford      True   \n",
       "40394         1439   1920     39      291        chelsea      True   \n",
       "40395         1439   1920     39      271  sheffield utd      True   \n",
       "40396         1439   1920     43      332        man utd      True   \n",
       "40397         1439   1920     46      361        arsenal      True   \n",
       "\n",
       "       was_sunday  was_weekday  was_late  was_early  element_type  \\\n",
       "20670           0            0         0          0             2   \n",
       "20671           0            0         0          0             2   \n",
       "20672           0            0         0          1             2   \n",
       "20673           0            0         0          0             2   \n",
       "20674           0            0         0          0             2   \n",
       "...           ...          ...       ...        ...           ...   \n",
       "40393           0            1         1          0             1   \n",
       "40394           1            0         1          0             1   \n",
       "40395           0            1         1          0             1   \n",
       "40396           0            1         1          0             1   \n",
       "40397           0            1         1          0             1   \n",
       "\n",
       "              team  value  rolling_avg_total_points_element_p20  \\\n",
       "20670     west ham     50                                   1.1   \n",
       "20671     west ham     50                                   1.1   \n",
       "20672     west ham     50                                   1.1   \n",
       "20673     west ham     50                                   1.1   \n",
       "20674     west ham     50                                   1.1   \n",
       "...            ...    ...                                   ...   \n",
       "40393  aston villa     45                                   0.0   \n",
       "40394  aston villa     45                                   0.0   \n",
       "40395  aston villa     45                                   0.0   \n",
       "40396  aston villa     45                                   0.0   \n",
       "40397  aston villa     45                                   0.0   \n",
       "\n",
       "       rolling_avg_assists_element_p20  rolling_avg_clean_sheets_element_p20  \\\n",
       "20670                             0.05                                  0.05   \n",
       "20671                             0.05                                  0.05   \n",
       "20672                             0.05                                  0.05   \n",
       "20673                             0.05                                  0.05   \n",
       "20674                             0.05                                  0.05   \n",
       "...                                ...                                   ...   \n",
       "40393                             0.00                                  0.00   \n",
       "40394                             0.00                                  0.00   \n",
       "40395                             0.00                                  0.00   \n",
       "40396                             0.00                                  0.00   \n",
       "40397                             0.00                                  0.00   \n",
       "\n",
       "       rolling_avg_goals_conceded_element_p20  rolling_avg_saves_element_p20  \\\n",
       "20670                                    1.05                            0.0   \n",
       "20671                                    1.05                            0.0   \n",
       "20672                                    1.05                            0.0   \n",
       "20673                                    1.05                            0.0   \n",
       "20674                                    1.05                            0.0   \n",
       "...                                       ...                            ...   \n",
       "40393                                    0.00                            0.0   \n",
       "40394                                    0.00                            0.0   \n",
       "40395                                    0.00                            0.0   \n",
       "40396                                    0.00                            0.0   \n",
       "40397                                    0.00                            0.0   \n",
       "\n",
       "       rolling_avg_minutes_element_p20  predicted_total_points  \\\n",
       "20670                            51.15                1.593031   \n",
       "20671                            51.15                1.567048   \n",
       "20672                            51.15                1.483979   \n",
       "20673                            51.15                1.567048   \n",
       "20674                            51.15                1.280695   \n",
       "...                                ...                     ...   \n",
       "40393                             0.00                0.363051   \n",
       "40394                             0.00                0.031013   \n",
       "40395                             0.00                0.337068   \n",
       "40396                             0.00                0.089418   \n",
       "40397                             0.00                0.062967   \n",
       "\n",
       "       prediction_event  \n",
       "20670                 3  \n",
       "20671                 3  \n",
       "20672                 3  \n",
       "20673                 3  \n",
       "20674                 3  \n",
       "...                 ...  \n",
       "40393                 3  \n",
       "40394                 3  \n",
       "40395                 3  \n",
       "40396                 3  \n",
       "40397                 3  \n",
       "\n",
       "[19728 rows x 21 columns]"
      ]
     },
     "execution_count": 19,
     "metadata": {},
     "output_type": "execute_result"
    }
   ],
   "source": [
    "predictions_df_arr[2]"
   ]
  },
  {
   "cell_type": "markdown",
   "metadata": {},
   "source": [
    "## Points"
   ]
  },
  {
   "cell_type": "code",
   "execution_count": 20,
   "metadata": {
    "ExecuteTime": {
     "end_time": "2021-01-11T12:01:44.474577Z",
     "start_time": "2021-01-11T12:01:44.462549Z"
    }
   },
   "outputs": [
    {
     "data": {
      "text/plain": [
       "[(1, 11.0), (2, 33.0), (3, 60.0)]"
      ]
     },
     "execution_count": 20,
     "metadata": {},
     "output_type": "execute_result"
    }
   ],
   "source": [
    "[(i['event'], i['event_points']) for i in simulation_results_arr]"
   ]
  },
  {
   "cell_type": "markdown",
   "metadata": {},
   "source": [
    "## Selections"
   ]
  },
  {
   "cell_type": "markdown",
   "metadata": {},
   "source": [
    "### Element data"
   ]
  },
  {
   "cell_type": "code",
   "execution_count": 21,
   "metadata": {
    "ExecuteTime": {
     "end_time": "2021-01-11T12:01:44.515746Z",
     "start_time": "2021-01-11T12:01:44.486164Z"
    }
   },
   "outputs": [],
   "source": [
    "elements_df_arr = []\n",
    "for i, event in enumerate([1, 2, 3]):\n",
    "    df = simulation_results_arr[i]['elements_df']\n",
    "    df['prediction_event'] = event\n",
    "    elements_df_arr.append(df)\n",
    "\n",
    "elements_df = pd.concat(elements_df_arr)"
   ]
  },
  {
   "cell_type": "markdown",
   "metadata": {},
   "source": [
    "### First team"
   ]
  },
  {
   "cell_type": "code",
   "execution_count": 22,
   "metadata": {
    "ExecuteTime": {
     "end_time": "2021-01-11T12:01:44.550002Z",
     "start_time": "2021-01-11T12:01:44.534755Z"
    }
   },
   "outputs": [
    {
     "data": {
      "text/plain": [
       "[(1, [136, 257, 1407, 892, 1184, 632, 98, 1390, 1037, 555, 260]),\n",
       " (2, [257, 892, 1184, 632, 98, 1390, 260, 727, 1407, 1037, 136]),\n",
       " (3, [257, 260, 1037, 727, 1327, 1407, 136, 892, 1390, 1184, 98])]"
      ]
     },
     "execution_count": 22,
     "metadata": {},
     "output_type": "execute_result"
    }
   ],
   "source": [
    "[(i['event'], i['first_team']) for i in simulation_results_arr]"
   ]
  },
  {
   "cell_type": "markdown",
   "metadata": {},
   "source": [
    "### Bench"
   ]
  },
  {
   "cell_type": "code",
   "execution_count": 23,
   "metadata": {
    "ExecuteTime": {
     "end_time": "2021-01-11T12:01:44.572232Z",
     "start_time": "2021-01-11T12:01:44.562249Z"
    }
   },
   "outputs": [
    {
     "data": {
      "text/plain": [
       "[(1, [944, 246, 953, 571]),\n",
       " (2, [953, 246, 571, 944]),\n",
       " (3, [246, 571, 953, 944])]"
      ]
     },
     "execution_count": 23,
     "metadata": {},
     "output_type": "execute_result"
    }
   ],
   "source": [
    "[(i['event'], i['bench']) for i in simulation_results_arr]"
   ]
  },
  {
   "cell_type": "markdown",
   "metadata": {},
   "source": [
    "### Captain"
   ]
  },
  {
   "cell_type": "code",
   "execution_count": 24,
   "metadata": {
    "ExecuteTime": {
     "end_time": "2021-01-11T12:01:44.591225Z",
     "start_time": "2021-01-11T12:01:44.582453Z"
    }
   },
   "outputs": [
    {
     "data": {
      "text/plain": [
       "[(1, [1037]), (2, [1037]), (3, [1037])]"
      ]
     },
     "execution_count": 24,
     "metadata": {},
     "output_type": "execute_result"
    }
   ],
   "source": [
    "[(i['event'], i['captain']) for i in simulation_results_arr]"
   ]
  },
  {
   "cell_type": "markdown",
   "metadata": {},
   "source": [
    "### Vice"
   ]
  },
  {
   "cell_type": "code",
   "execution_count": 25,
   "metadata": {
    "ExecuteTime": {
     "end_time": "2021-01-11T12:01:44.605577Z",
     "start_time": "2021-01-11T12:01:44.596081Z"
    }
   },
   "outputs": [
    {
     "data": {
      "text/plain": [
       "[(1, [260]), (2, [98]), (3, [1327])]"
      ]
     },
     "execution_count": 25,
     "metadata": {},
     "output_type": "execute_result"
    }
   ],
   "source": [
    "[(i['event'], i['vice']) for i in simulation_results_arr]"
   ]
  }
 ],
 "metadata": {
  "kernelspec": {
   "display_name": "Python 3",
   "language": "python",
   "name": "python3"
  },
  "language_info": {
   "codemirror_mode": {
    "name": "ipython",
    "version": 3
   },
   "file_extension": ".py",
   "mimetype": "text/x-python",
   "name": "python",
   "nbconvert_exporter": "python",
   "pygments_lexer": "ipython3",
   "version": "3.7.7"
  },
  "toc": {
   "base_numbering": 1,
   "nav_menu": {},
   "number_sections": true,
   "sideBar": true,
   "skip_h1_title": false,
   "title_cell": "Table of Contents",
   "title_sidebar": "Contents",
   "toc_cell": false,
   "toc_position": {},
   "toc_section_display": true,
   "toc_window_display": false
  }
 },
 "nbformat": 4,
 "nbformat_minor": 4
}
